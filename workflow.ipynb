{
 "cells": [
  {
   "cell_type": "markdown",
   "metadata": {},
   "source": [
    "## **Import Libraries**"
   ]
  },
  {
   "cell_type": "code",
   "execution_count": 2,
   "metadata": {},
   "outputs": [],
   "source": [
    "import pandas as pd\n",
    "import numpy as np\n",
    "import seaborn as sns\n",
    "import matplotlib.pyplot as plt"
   ]
  },
  {
   "cell_type": "markdown",
   "metadata": {},
   "source": [
    "## Data Exploration"
   ]
  },
  {
   "cell_type": "code",
   "execution_count": 3,
   "metadata": {},
   "outputs": [
    {
     "name": "stderr",
     "output_type": "stream",
     "text": [
      "/var/folders/_t/ms_9wggj1s1d3vr5j_zzp07c0000gn/T/ipykernel_98045/242153079.py:7: DtypeWarning: Columns (4) have mixed types. Specify dtype option on import or set low_memory=False.\n",
      "  df6 = pd.read_csv('CRMLSSold202506_filled.csv')\n"
     ]
    },
    {
     "data": {
      "text/html": [
       "<div>\n",
       "<style scoped>\n",
       "    .dataframe tbody tr th:only-of-type {\n",
       "        vertical-align: middle;\n",
       "    }\n",
       "\n",
       "    .dataframe tbody tr th {\n",
       "        vertical-align: top;\n",
       "    }\n",
       "\n",
       "    .dataframe thead th {\n",
       "        text-align: right;\n",
       "    }\n",
       "</style>\n",
       "<table border=\"1\" class=\"dataframe\">\n",
       "  <thead>\n",
       "    <tr style=\"text-align: right;\">\n",
       "      <th></th>\n",
       "      <th>BuyerAgentAOR</th>\n",
       "      <th>ListAgentAOR</th>\n",
       "      <th>Flooring</th>\n",
       "      <th>ViewYN</th>\n",
       "      <th>WaterfrontYN</th>\n",
       "      <th>BasementYN</th>\n",
       "      <th>PoolPrivateYN</th>\n",
       "      <th>OriginalListPrice</th>\n",
       "      <th>ListingKey</th>\n",
       "      <th>ListAgentEmail</th>\n",
       "      <th>...</th>\n",
       "      <th>MainLevelBedrooms</th>\n",
       "      <th>NewConstructionYN</th>\n",
       "      <th>GarageSpaces</th>\n",
       "      <th>HighSchoolDistrict</th>\n",
       "      <th>PostalCode</th>\n",
       "      <th>AssociationFee</th>\n",
       "      <th>LotSizeSquareFeet</th>\n",
       "      <th>MiddleOrJuniorSchoolDistrict</th>\n",
       "      <th>latfilled</th>\n",
       "      <th>lonfilled</th>\n",
       "    </tr>\n",
       "  </thead>\n",
       "  <tbody>\n",
       "    <tr>\n",
       "      <th>0</th>\n",
       "      <td>PasadenaFoothills</td>\n",
       "      <td>PasadenaFoothills</td>\n",
       "      <td>NaN</td>\n",
       "      <td>True</td>\n",
       "      <td>NaN</td>\n",
       "      <td>NaN</td>\n",
       "      <td>NaN</td>\n",
       "      <td>699000.0</td>\n",
       "      <td>538489291</td>\n",
       "      <td>jimo@bridgeadvisorsllc.com</td>\n",
       "      <td>...</td>\n",
       "      <td>NaN</td>\n",
       "      <td>False</td>\n",
       "      <td>NaN</td>\n",
       "      <td>NaN</td>\n",
       "      <td>90031</td>\n",
       "      <td>0.0</td>\n",
       "      <td>34350.0</td>\n",
       "      <td>NaN</td>\n",
       "      <td>False</td>\n",
       "      <td>False</td>\n",
       "    </tr>\n",
       "    <tr>\n",
       "      <th>1</th>\n",
       "      <td>BeverlyHillsGreaterLa</td>\n",
       "      <td>BeverlyHillsGreaterLa</td>\n",
       "      <td>Carpet,Stone,Tile,Wood</td>\n",
       "      <td>True</td>\n",
       "      <td>NaN</td>\n",
       "      <td>True</td>\n",
       "      <td>True</td>\n",
       "      <td>45000.0</td>\n",
       "      <td>509724017</td>\n",
       "      <td>mwoods@marybethwoods.com</td>\n",
       "      <td>...</td>\n",
       "      <td>NaN</td>\n",
       "      <td>False</td>\n",
       "      <td>NaN</td>\n",
       "      <td>NaN</td>\n",
       "      <td>90402</td>\n",
       "      <td>NaN</td>\n",
       "      <td>5717.0</td>\n",
       "      <td>NaN</td>\n",
       "      <td>False</td>\n",
       "      <td>False</td>\n",
       "    </tr>\n",
       "    <tr>\n",
       "      <th>2</th>\n",
       "      <td>PalmSprings</td>\n",
       "      <td>PalmSprings</td>\n",
       "      <td>Tile</td>\n",
       "      <td>True</td>\n",
       "      <td>NaN</td>\n",
       "      <td>NaN</td>\n",
       "      <td>True</td>\n",
       "      <td>8500.0</td>\n",
       "      <td>498101084</td>\n",
       "      <td>encorepremiergroup@bdhomes.com</td>\n",
       "      <td>...</td>\n",
       "      <td>NaN</td>\n",
       "      <td>False</td>\n",
       "      <td>3.0</td>\n",
       "      <td>NaN</td>\n",
       "      <td>92270</td>\n",
       "      <td>1.0</td>\n",
       "      <td>4792.0</td>\n",
       "      <td>NaN</td>\n",
       "      <td>False</td>\n",
       "      <td>False</td>\n",
       "    </tr>\n",
       "    <tr>\n",
       "      <th>3</th>\n",
       "      <td>HighDesert</td>\n",
       "      <td>HighDesert</td>\n",
       "      <td>NaN</td>\n",
       "      <td>True</td>\n",
       "      <td>NaN</td>\n",
       "      <td>NaN</td>\n",
       "      <td>NaN</td>\n",
       "      <td>100000.0</td>\n",
       "      <td>446933645</td>\n",
       "      <td>billquimby.re@gmail.com</td>\n",
       "      <td>...</td>\n",
       "      <td>NaN</td>\n",
       "      <td>False</td>\n",
       "      <td>NaN</td>\n",
       "      <td>NaN</td>\n",
       "      <td>92307</td>\n",
       "      <td>NaN</td>\n",
       "      <td>217800.0</td>\n",
       "      <td>NaN</td>\n",
       "      <td>False</td>\n",
       "      <td>False</td>\n",
       "    </tr>\n",
       "    <tr>\n",
       "      <th>4</th>\n",
       "      <td>PalmSprings</td>\n",
       "      <td>PalmSprings</td>\n",
       "      <td>Carpet,Tile</td>\n",
       "      <td>True</td>\n",
       "      <td>NaN</td>\n",
       "      <td>NaN</td>\n",
       "      <td>True</td>\n",
       "      <td>7500.0</td>\n",
       "      <td>441682993</td>\n",
       "      <td>encorepremiergroup@bdhomes.com</td>\n",
       "      <td>...</td>\n",
       "      <td>NaN</td>\n",
       "      <td>False</td>\n",
       "      <td>3.0</td>\n",
       "      <td>NaN</td>\n",
       "      <td>92270</td>\n",
       "      <td>1103.0</td>\n",
       "      <td>5227.0</td>\n",
       "      <td>NaN</td>\n",
       "      <td>False</td>\n",
       "      <td>False</td>\n",
       "    </tr>\n",
       "    <tr>\n",
       "      <th>...</th>\n",
       "      <td>...</td>\n",
       "      <td>...</td>\n",
       "      <td>...</td>\n",
       "      <td>...</td>\n",
       "      <td>...</td>\n",
       "      <td>...</td>\n",
       "      <td>...</td>\n",
       "      <td>...</td>\n",
       "      <td>...</td>\n",
       "      <td>...</td>\n",
       "      <td>...</td>\n",
       "      <td>...</td>\n",
       "      <td>...</td>\n",
       "      <td>...</td>\n",
       "      <td>...</td>\n",
       "      <td>...</td>\n",
       "      <td>...</td>\n",
       "      <td>...</td>\n",
       "      <td>...</td>\n",
       "      <td>...</td>\n",
       "      <td>...</td>\n",
       "    </tr>\n",
       "    <tr>\n",
       "      <th>18733</th>\n",
       "      <td>SouthBay</td>\n",
       "      <td>SouthBay</td>\n",
       "      <td>Wood</td>\n",
       "      <td>True</td>\n",
       "      <td>NaN</td>\n",
       "      <td>NaN</td>\n",
       "      <td>False</td>\n",
       "      <td>30000.0</td>\n",
       "      <td>1016208525</td>\n",
       "      <td>Nicole@strandhill.com</td>\n",
       "      <td>...</td>\n",
       "      <td>2.0</td>\n",
       "      <td>False</td>\n",
       "      <td>2.0</td>\n",
       "      <td>Hermosa</td>\n",
       "      <td>90254</td>\n",
       "      <td>0.0</td>\n",
       "      <td>2849.0</td>\n",
       "      <td>NaN</td>\n",
       "      <td>False</td>\n",
       "      <td>False</td>\n",
       "    </tr>\n",
       "    <tr>\n",
       "      <th>18734</th>\n",
       "      <td>LakeCounty</td>\n",
       "      <td>LakeCounty</td>\n",
       "      <td>NaN</td>\n",
       "      <td>True</td>\n",
       "      <td>NaN</td>\n",
       "      <td>NaN</td>\n",
       "      <td>NaN</td>\n",
       "      <td>13000.0</td>\n",
       "      <td>1014853654</td>\n",
       "      <td>natalie@countryair.com</td>\n",
       "      <td>...</td>\n",
       "      <td>NaN</td>\n",
       "      <td>False</td>\n",
       "      <td>NaN</td>\n",
       "      <td>NaN</td>\n",
       "      <td>95426</td>\n",
       "      <td>0.0</td>\n",
       "      <td>15796.0</td>\n",
       "      <td>NaN</td>\n",
       "      <td>False</td>\n",
       "      <td>False</td>\n",
       "    </tr>\n",
       "    <tr>\n",
       "      <th>18735</th>\n",
       "      <td>Southland</td>\n",
       "      <td>Southland</td>\n",
       "      <td>NaN</td>\n",
       "      <td>True</td>\n",
       "      <td>NaN</td>\n",
       "      <td>NaN</td>\n",
       "      <td>NaN</td>\n",
       "      <td>280000.0</td>\n",
       "      <td>1014565718</td>\n",
       "      <td>realtorchrismurphy@gmail.com</td>\n",
       "      <td>...</td>\n",
       "      <td>NaN</td>\n",
       "      <td>False</td>\n",
       "      <td>NaN</td>\n",
       "      <td>NaN</td>\n",
       "      <td>93536</td>\n",
       "      <td>0.0</td>\n",
       "      <td>102410.0</td>\n",
       "      <td>NaN</td>\n",
       "      <td>False</td>\n",
       "      <td>False</td>\n",
       "    </tr>\n",
       "    <tr>\n",
       "      <th>18736</th>\n",
       "      <td>BeverlyHillsGreaterLa</td>\n",
       "      <td>BeverlyHillsGreaterLa</td>\n",
       "      <td>NaN</td>\n",
       "      <td>True</td>\n",
       "      <td>NaN</td>\n",
       "      <td>NaN</td>\n",
       "      <td>NaN</td>\n",
       "      <td>8280000.0</td>\n",
       "      <td>1013615868</td>\n",
       "      <td>susan@susanksanford.com</td>\n",
       "      <td>...</td>\n",
       "      <td>NaN</td>\n",
       "      <td>False</td>\n",
       "      <td>NaN</td>\n",
       "      <td>NaN</td>\n",
       "      <td>95928</td>\n",
       "      <td>NaN</td>\n",
       "      <td>60112800.0</td>\n",
       "      <td>NaN</td>\n",
       "      <td>False</td>\n",
       "      <td>False</td>\n",
       "    </tr>\n",
       "    <tr>\n",
       "      <th>18737</th>\n",
       "      <td>Madera</td>\n",
       "      <td>Madera</td>\n",
       "      <td>NaN</td>\n",
       "      <td>False</td>\n",
       "      <td>NaN</td>\n",
       "      <td>NaN</td>\n",
       "      <td>NaN</td>\n",
       "      <td>2400000.0</td>\n",
       "      <td>1003014219</td>\n",
       "      <td>niki@londonproperties.com</td>\n",
       "      <td>...</td>\n",
       "      <td>NaN</td>\n",
       "      <td>False</td>\n",
       "      <td>NaN</td>\n",
       "      <td>NaN</td>\n",
       "      <td>93610</td>\n",
       "      <td>0.0</td>\n",
       "      <td>4660920.0</td>\n",
       "      <td>NaN</td>\n",
       "      <td>False</td>\n",
       "      <td>False</td>\n",
       "    </tr>\n",
       "  </tbody>\n",
       "</table>\n",
       "<p>18738 rows × 80 columns</p>\n",
       "</div>"
      ],
      "text/plain": [
       "               BuyerAgentAOR           ListAgentAOR                Flooring  \\\n",
       "0          PasadenaFoothills      PasadenaFoothills                     NaN   \n",
       "1      BeverlyHillsGreaterLa  BeverlyHillsGreaterLa  Carpet,Stone,Tile,Wood   \n",
       "2                PalmSprings            PalmSprings                    Tile   \n",
       "3                 HighDesert             HighDesert                     NaN   \n",
       "4                PalmSprings            PalmSprings             Carpet,Tile   \n",
       "...                      ...                    ...                     ...   \n",
       "18733               SouthBay               SouthBay                    Wood   \n",
       "18734             LakeCounty             LakeCounty                     NaN   \n",
       "18735              Southland              Southland                     NaN   \n",
       "18736  BeverlyHillsGreaterLa  BeverlyHillsGreaterLa                     NaN   \n",
       "18737                 Madera                 Madera                     NaN   \n",
       "\n",
       "      ViewYN WaterfrontYN BasementYN PoolPrivateYN  OriginalListPrice  \\\n",
       "0       True          NaN        NaN           NaN           699000.0   \n",
       "1       True          NaN       True          True            45000.0   \n",
       "2       True          NaN        NaN          True             8500.0   \n",
       "3       True          NaN        NaN           NaN           100000.0   \n",
       "4       True          NaN        NaN          True             7500.0   \n",
       "...      ...          ...        ...           ...                ...   \n",
       "18733   True          NaN        NaN         False            30000.0   \n",
       "18734   True          NaN        NaN           NaN            13000.0   \n",
       "18735   True          NaN        NaN           NaN           280000.0   \n",
       "18736   True          NaN        NaN           NaN          8280000.0   \n",
       "18737  False          NaN        NaN           NaN          2400000.0   \n",
       "\n",
       "       ListingKey                  ListAgentEmail  ... MainLevelBedrooms  \\\n",
       "0       538489291      jimo@bridgeadvisorsllc.com  ...               NaN   \n",
       "1       509724017        mwoods@marybethwoods.com  ...               NaN   \n",
       "2       498101084  encorepremiergroup@bdhomes.com  ...               NaN   \n",
       "3       446933645         billquimby.re@gmail.com  ...               NaN   \n",
       "4       441682993  encorepremiergroup@bdhomes.com  ...               NaN   \n",
       "...           ...                             ...  ...               ...   \n",
       "18733  1016208525           Nicole@strandhill.com  ...               2.0   \n",
       "18734  1014853654          natalie@countryair.com  ...               NaN   \n",
       "18735  1014565718    realtorchrismurphy@gmail.com  ...               NaN   \n",
       "18736  1013615868         susan@susanksanford.com  ...               NaN   \n",
       "18737  1003014219       niki@londonproperties.com  ...               NaN   \n",
       "\n",
       "       NewConstructionYN GarageSpaces HighSchoolDistrict  PostalCode  \\\n",
       "0                  False          NaN                NaN       90031   \n",
       "1                  False          NaN                NaN       90402   \n",
       "2                  False          3.0                NaN       92270   \n",
       "3                  False          NaN                NaN       92307   \n",
       "4                  False          3.0                NaN       92270   \n",
       "...                  ...          ...                ...         ...   \n",
       "18733              False          2.0            Hermosa       90254   \n",
       "18734              False          NaN                NaN       95426   \n",
       "18735              False          NaN                NaN       93536   \n",
       "18736              False          NaN                NaN       95928   \n",
       "18737              False          NaN                NaN       93610   \n",
       "\n",
       "       AssociationFee LotSizeSquareFeet MiddleOrJuniorSchoolDistrict  \\\n",
       "0                 0.0           34350.0                          NaN   \n",
       "1                 NaN            5717.0                          NaN   \n",
       "2                 1.0            4792.0                          NaN   \n",
       "3                 NaN          217800.0                          NaN   \n",
       "4              1103.0            5227.0                          NaN   \n",
       "...               ...               ...                          ...   \n",
       "18733             0.0            2849.0                          NaN   \n",
       "18734             0.0           15796.0                          NaN   \n",
       "18735             0.0          102410.0                          NaN   \n",
       "18736             NaN        60112800.0                          NaN   \n",
       "18737             0.0         4660920.0                          NaN   \n",
       "\n",
       "       latfilled  lonfilled  \n",
       "0          False      False  \n",
       "1          False      False  \n",
       "2          False      False  \n",
       "3          False      False  \n",
       "4          False      False  \n",
       "...          ...        ...  \n",
       "18733      False      False  \n",
       "18734      False      False  \n",
       "18735      False      False  \n",
       "18736      False      False  \n",
       "18737      False      False  \n",
       "\n",
       "[18738 rows x 80 columns]"
      ]
     },
     "execution_count": 3,
     "metadata": {},
     "output_type": "execute_result"
    }
   ],
   "source": [
    "# Load Datasets \n",
    "df1 = pd.read_csv('CRMLSSold202501_filled.csv')\n",
    "df2 = pd.read_csv('CRMLSSold202502_filled.csv')\n",
    "df3 = pd.read_csv('CRMLSSold202503_filled.csv')\n",
    "df4 = pd.read_csv('CRMLSSold202504_filled.csv')\n",
    "df5 = pd.read_csv('CRMLSSold202505_filled.csv')\n",
    "df6 = pd.read_csv('CRMLSSold202506_filled.csv')\n",
    "df7 = pd.read_csv('CRMLSSold202507_filled.csv')\n",
    "df8 = pd.read_csv('CRMLSSold202508_filled-2.csv')\n",
    "df1"
   ]
  },
  {
   "cell_type": "code",
   "execution_count": 4,
   "metadata": {},
   "outputs": [
    {
     "data": {
      "text/plain": [
       "(18738, 18702, 21445, 23262, 23154, 22883, 23646, 22972)"
      ]
     },
     "execution_count": 4,
     "metadata": {},
     "output_type": "execute_result"
    }
   ],
   "source": [
    "#rows of each dataframe\n",
    "len(df1), len(df2), len(df3), len(df4), len(df5), len(df6), len(df7), len(df8)"
   ]
  },
  {
   "cell_type": "code",
   "execution_count": 5,
   "metadata": {},
   "outputs": [
    {
     "data": {
      "text/html": [
       "<div>\n",
       "<style scoped>\n",
       "    .dataframe tbody tr th:only-of-type {\n",
       "        vertical-align: middle;\n",
       "    }\n",
       "\n",
       "    .dataframe tbody tr th {\n",
       "        vertical-align: top;\n",
       "    }\n",
       "\n",
       "    .dataframe thead th {\n",
       "        text-align: right;\n",
       "    }\n",
       "</style>\n",
       "<table border=\"1\" class=\"dataframe\">\n",
       "  <thead>\n",
       "    <tr style=\"text-align: right;\">\n",
       "      <th></th>\n",
       "      <th>BuyerAgentAOR</th>\n",
       "      <th>ListAgentAOR</th>\n",
       "      <th>Flooring</th>\n",
       "      <th>ViewYN</th>\n",
       "      <th>WaterfrontYN</th>\n",
       "      <th>BasementYN</th>\n",
       "      <th>PoolPrivateYN</th>\n",
       "      <th>OriginalListPrice</th>\n",
       "      <th>ListingKey</th>\n",
       "      <th>ListAgentEmail</th>\n",
       "      <th>...</th>\n",
       "      <th>MainLevelBedrooms</th>\n",
       "      <th>NewConstructionYN</th>\n",
       "      <th>GarageSpaces</th>\n",
       "      <th>HighSchoolDistrict</th>\n",
       "      <th>PostalCode</th>\n",
       "      <th>AssociationFee</th>\n",
       "      <th>LotSizeSquareFeet</th>\n",
       "      <th>MiddleOrJuniorSchoolDistrict</th>\n",
       "      <th>latfilled</th>\n",
       "      <th>lonfilled</th>\n",
       "    </tr>\n",
       "  </thead>\n",
       "  <tbody>\n",
       "    <tr>\n",
       "      <th>0</th>\n",
       "      <td>PasadenaFoothills</td>\n",
       "      <td>PasadenaFoothills</td>\n",
       "      <td>NaN</td>\n",
       "      <td>True</td>\n",
       "      <td>NaN</td>\n",
       "      <td>NaN</td>\n",
       "      <td>NaN</td>\n",
       "      <td>699000.0</td>\n",
       "      <td>538489291</td>\n",
       "      <td>jimo@bridgeadvisorsllc.com</td>\n",
       "      <td>...</td>\n",
       "      <td>NaN</td>\n",
       "      <td>False</td>\n",
       "      <td>NaN</td>\n",
       "      <td>NaN</td>\n",
       "      <td>90031</td>\n",
       "      <td>0.0</td>\n",
       "      <td>34350.0</td>\n",
       "      <td>NaN</td>\n",
       "      <td>False</td>\n",
       "      <td>False</td>\n",
       "    </tr>\n",
       "    <tr>\n",
       "      <th>1</th>\n",
       "      <td>BeverlyHillsGreaterLa</td>\n",
       "      <td>BeverlyHillsGreaterLa</td>\n",
       "      <td>Carpet,Stone,Tile,Wood</td>\n",
       "      <td>True</td>\n",
       "      <td>NaN</td>\n",
       "      <td>True</td>\n",
       "      <td>True</td>\n",
       "      <td>45000.0</td>\n",
       "      <td>509724017</td>\n",
       "      <td>mwoods@marybethwoods.com</td>\n",
       "      <td>...</td>\n",
       "      <td>NaN</td>\n",
       "      <td>False</td>\n",
       "      <td>NaN</td>\n",
       "      <td>NaN</td>\n",
       "      <td>90402</td>\n",
       "      <td>NaN</td>\n",
       "      <td>5717.0</td>\n",
       "      <td>NaN</td>\n",
       "      <td>False</td>\n",
       "      <td>False</td>\n",
       "    </tr>\n",
       "    <tr>\n",
       "      <th>2</th>\n",
       "      <td>PalmSprings</td>\n",
       "      <td>PalmSprings</td>\n",
       "      <td>Tile</td>\n",
       "      <td>True</td>\n",
       "      <td>NaN</td>\n",
       "      <td>NaN</td>\n",
       "      <td>True</td>\n",
       "      <td>8500.0</td>\n",
       "      <td>498101084</td>\n",
       "      <td>encorepremiergroup@bdhomes.com</td>\n",
       "      <td>...</td>\n",
       "      <td>NaN</td>\n",
       "      <td>False</td>\n",
       "      <td>3.0</td>\n",
       "      <td>NaN</td>\n",
       "      <td>92270</td>\n",
       "      <td>1.0</td>\n",
       "      <td>4792.0</td>\n",
       "      <td>NaN</td>\n",
       "      <td>False</td>\n",
       "      <td>False</td>\n",
       "    </tr>\n",
       "    <tr>\n",
       "      <th>3</th>\n",
       "      <td>HighDesert</td>\n",
       "      <td>HighDesert</td>\n",
       "      <td>NaN</td>\n",
       "      <td>True</td>\n",
       "      <td>NaN</td>\n",
       "      <td>NaN</td>\n",
       "      <td>NaN</td>\n",
       "      <td>100000.0</td>\n",
       "      <td>446933645</td>\n",
       "      <td>billquimby.re@gmail.com</td>\n",
       "      <td>...</td>\n",
       "      <td>NaN</td>\n",
       "      <td>False</td>\n",
       "      <td>NaN</td>\n",
       "      <td>NaN</td>\n",
       "      <td>92307</td>\n",
       "      <td>NaN</td>\n",
       "      <td>217800.0</td>\n",
       "      <td>NaN</td>\n",
       "      <td>False</td>\n",
       "      <td>False</td>\n",
       "    </tr>\n",
       "    <tr>\n",
       "      <th>4</th>\n",
       "      <td>PalmSprings</td>\n",
       "      <td>PalmSprings</td>\n",
       "      <td>Carpet,Tile</td>\n",
       "      <td>True</td>\n",
       "      <td>NaN</td>\n",
       "      <td>NaN</td>\n",
       "      <td>True</td>\n",
       "      <td>7500.0</td>\n",
       "      <td>441682993</td>\n",
       "      <td>encorepremiergroup@bdhomes.com</td>\n",
       "      <td>...</td>\n",
       "      <td>NaN</td>\n",
       "      <td>False</td>\n",
       "      <td>3.0</td>\n",
       "      <td>NaN</td>\n",
       "      <td>92270</td>\n",
       "      <td>1103.0</td>\n",
       "      <td>5227.0</td>\n",
       "      <td>NaN</td>\n",
       "      <td>False</td>\n",
       "      <td>False</td>\n",
       "    </tr>\n",
       "    <tr>\n",
       "      <th>...</th>\n",
       "      <td>...</td>\n",
       "      <td>...</td>\n",
       "      <td>...</td>\n",
       "      <td>...</td>\n",
       "      <td>...</td>\n",
       "      <td>...</td>\n",
       "      <td>...</td>\n",
       "      <td>...</td>\n",
       "      <td>...</td>\n",
       "      <td>...</td>\n",
       "      <td>...</td>\n",
       "      <td>...</td>\n",
       "      <td>...</td>\n",
       "      <td>...</td>\n",
       "      <td>...</td>\n",
       "      <td>...</td>\n",
       "      <td>...</td>\n",
       "      <td>...</td>\n",
       "      <td>...</td>\n",
       "      <td>...</td>\n",
       "      <td>...</td>\n",
       "    </tr>\n",
       "    <tr>\n",
       "      <th>22967</th>\n",
       "      <td>Southland</td>\n",
       "      <td>Southland</td>\n",
       "      <td>NaN</td>\n",
       "      <td>True</td>\n",
       "      <td>NaN</td>\n",
       "      <td>NaN</td>\n",
       "      <td>NaN</td>\n",
       "      <td>40000.0</td>\n",
       "      <td>1023544250</td>\n",
       "      <td>jim.keller@bhhstroth.com</td>\n",
       "      <td>...</td>\n",
       "      <td>NaN</td>\n",
       "      <td>False</td>\n",
       "      <td>NaN</td>\n",
       "      <td>NaN</td>\n",
       "      <td>93560</td>\n",
       "      <td>0.0</td>\n",
       "      <td>85378.0</td>\n",
       "      <td>NaN</td>\n",
       "      <td>False</td>\n",
       "      <td>False</td>\n",
       "    </tr>\n",
       "    <tr>\n",
       "      <th>22968</th>\n",
       "      <td>Mlslistings</td>\n",
       "      <td>Mlslistings</td>\n",
       "      <td>NaN</td>\n",
       "      <td>NaN</td>\n",
       "      <td>NaN</td>\n",
       "      <td>NaN</td>\n",
       "      <td>NaN</td>\n",
       "      <td>2375000.0</td>\n",
       "      <td>1023155869</td>\n",
       "      <td>steve@stevebianchi.com</td>\n",
       "      <td>...</td>\n",
       "      <td>NaN</td>\n",
       "      <td>NaN</td>\n",
       "      <td>NaN</td>\n",
       "      <td>San Francisco Unified</td>\n",
       "      <td>94112</td>\n",
       "      <td>0.0</td>\n",
       "      <td>3336.0</td>\n",
       "      <td>NaN</td>\n",
       "      <td>False</td>\n",
       "      <td>False</td>\n",
       "    </tr>\n",
       "    <tr>\n",
       "      <th>22969</th>\n",
       "      <td>BeverlyHillsGreaterLa</td>\n",
       "      <td>BeverlyHillsGreaterLa</td>\n",
       "      <td>Carpet,Tile,Wood</td>\n",
       "      <td>True</td>\n",
       "      <td>NaN</td>\n",
       "      <td>NaN</td>\n",
       "      <td>NaN</td>\n",
       "      <td>80000.0</td>\n",
       "      <td>1021594727</td>\n",
       "      <td>jordana769@gmail.com</td>\n",
       "      <td>...</td>\n",
       "      <td>NaN</td>\n",
       "      <td>False</td>\n",
       "      <td>6.0</td>\n",
       "      <td>NaN</td>\n",
       "      <td>90210</td>\n",
       "      <td>NaN</td>\n",
       "      <td>19047.0</td>\n",
       "      <td>NaN</td>\n",
       "      <td>False</td>\n",
       "      <td>False</td>\n",
       "    </tr>\n",
       "    <tr>\n",
       "      <th>22970</th>\n",
       "      <td>Laguna</td>\n",
       "      <td>Laguna</td>\n",
       "      <td>NaN</td>\n",
       "      <td>True</td>\n",
       "      <td>NaN</td>\n",
       "      <td>NaN</td>\n",
       "      <td>NaN</td>\n",
       "      <td>699000.0</td>\n",
       "      <td>1021355398</td>\n",
       "      <td>shawn@smithsonrealtygroup.com</td>\n",
       "      <td>...</td>\n",
       "      <td>NaN</td>\n",
       "      <td>False</td>\n",
       "      <td>NaN</td>\n",
       "      <td>NaN</td>\n",
       "      <td>92651</td>\n",
       "      <td>0.0</td>\n",
       "      <td>4792.0</td>\n",
       "      <td>NaN</td>\n",
       "      <td>False</td>\n",
       "      <td>False</td>\n",
       "    </tr>\n",
       "    <tr>\n",
       "      <th>22971</th>\n",
       "      <td>HighDesert</td>\n",
       "      <td>HighDesert</td>\n",
       "      <td>NaN</td>\n",
       "      <td>NaN</td>\n",
       "      <td>NaN</td>\n",
       "      <td>NaN</td>\n",
       "      <td>NaN</td>\n",
       "      <td>125000.0</td>\n",
       "      <td>1018523135</td>\n",
       "      <td>trustdee@aol.com</td>\n",
       "      <td>...</td>\n",
       "      <td>NaN</td>\n",
       "      <td>NaN</td>\n",
       "      <td>NaN</td>\n",
       "      <td>NaN</td>\n",
       "      <td>92311</td>\n",
       "      <td>NaN</td>\n",
       "      <td>8170.0</td>\n",
       "      <td>NaN</td>\n",
       "      <td>False</td>\n",
       "      <td>False</td>\n",
       "    </tr>\n",
       "  </tbody>\n",
       "</table>\n",
       "<p>174802 rows × 80 columns</p>\n",
       "</div>"
      ],
      "text/plain": [
       "               BuyerAgentAOR           ListAgentAOR                Flooring  \\\n",
       "0          PasadenaFoothills      PasadenaFoothills                     NaN   \n",
       "1      BeverlyHillsGreaterLa  BeverlyHillsGreaterLa  Carpet,Stone,Tile,Wood   \n",
       "2                PalmSprings            PalmSprings                    Tile   \n",
       "3                 HighDesert             HighDesert                     NaN   \n",
       "4                PalmSprings            PalmSprings             Carpet,Tile   \n",
       "...                      ...                    ...                     ...   \n",
       "22967              Southland              Southland                     NaN   \n",
       "22968            Mlslistings            Mlslistings                     NaN   \n",
       "22969  BeverlyHillsGreaterLa  BeverlyHillsGreaterLa        Carpet,Tile,Wood   \n",
       "22970                 Laguna                 Laguna                     NaN   \n",
       "22971             HighDesert             HighDesert                     NaN   \n",
       "\n",
       "      ViewYN WaterfrontYN BasementYN PoolPrivateYN  OriginalListPrice  \\\n",
       "0       True          NaN        NaN           NaN           699000.0   \n",
       "1       True          NaN       True          True            45000.0   \n",
       "2       True          NaN        NaN          True             8500.0   \n",
       "3       True          NaN        NaN           NaN           100000.0   \n",
       "4       True          NaN        NaN          True             7500.0   \n",
       "...      ...          ...        ...           ...                ...   \n",
       "22967   True          NaN        NaN           NaN            40000.0   \n",
       "22968    NaN          NaN        NaN           NaN          2375000.0   \n",
       "22969   True          NaN        NaN           NaN            80000.0   \n",
       "22970   True          NaN        NaN           NaN           699000.0   \n",
       "22971    NaN          NaN        NaN           NaN           125000.0   \n",
       "\n",
       "       ListingKey                  ListAgentEmail  ... MainLevelBedrooms  \\\n",
       "0       538489291      jimo@bridgeadvisorsllc.com  ...               NaN   \n",
       "1       509724017        mwoods@marybethwoods.com  ...               NaN   \n",
       "2       498101084  encorepremiergroup@bdhomes.com  ...               NaN   \n",
       "3       446933645         billquimby.re@gmail.com  ...               NaN   \n",
       "4       441682993  encorepremiergroup@bdhomes.com  ...               NaN   \n",
       "...           ...                             ...  ...               ...   \n",
       "22967  1023544250        jim.keller@bhhstroth.com  ...               NaN   \n",
       "22968  1023155869          steve@stevebianchi.com  ...               NaN   \n",
       "22969  1021594727            jordana769@gmail.com  ...               NaN   \n",
       "22970  1021355398   shawn@smithsonrealtygroup.com  ...               NaN   \n",
       "22971  1018523135                trustdee@aol.com  ...               NaN   \n",
       "\n",
       "       NewConstructionYN GarageSpaces     HighSchoolDistrict  PostalCode  \\\n",
       "0                  False          NaN                    NaN       90031   \n",
       "1                  False          NaN                    NaN       90402   \n",
       "2                  False          3.0                    NaN       92270   \n",
       "3                  False          NaN                    NaN       92307   \n",
       "4                  False          3.0                    NaN       92270   \n",
       "...                  ...          ...                    ...         ...   \n",
       "22967              False          NaN                    NaN       93560   \n",
       "22968                NaN          NaN  San Francisco Unified       94112   \n",
       "22969              False          6.0                    NaN       90210   \n",
       "22970              False          NaN                    NaN       92651   \n",
       "22971                NaN          NaN                    NaN       92311   \n",
       "\n",
       "       AssociationFee LotSizeSquareFeet MiddleOrJuniorSchoolDistrict  \\\n",
       "0                 0.0           34350.0                          NaN   \n",
       "1                 NaN            5717.0                          NaN   \n",
       "2                 1.0            4792.0                          NaN   \n",
       "3                 NaN          217800.0                          NaN   \n",
       "4              1103.0            5227.0                          NaN   \n",
       "...               ...               ...                          ...   \n",
       "22967             0.0           85378.0                          NaN   \n",
       "22968             0.0            3336.0                          NaN   \n",
       "22969             NaN           19047.0                          NaN   \n",
       "22970             0.0            4792.0                          NaN   \n",
       "22971             NaN            8170.0                          NaN   \n",
       "\n",
       "       latfilled  lonfilled  \n",
       "0          False      False  \n",
       "1          False      False  \n",
       "2          False      False  \n",
       "3          False      False  \n",
       "4          False      False  \n",
       "...          ...        ...  \n",
       "22967      False      False  \n",
       "22968      False      False  \n",
       "22969      False      False  \n",
       "22970      False      False  \n",
       "22971      False      False  \n",
       "\n",
       "[174802 rows x 80 columns]"
      ]
     },
     "execution_count": 5,
     "metadata": {},
     "output_type": "execute_result"
    }
   ],
   "source": [
    "df = pd.concat([df1,df2,df3,df4,df5,df6,df7,df8])\n",
    "df"
   ]
  },
  {
   "cell_type": "code",
   "execution_count": 6,
   "metadata": {},
   "outputs": [
    {
     "data": {
      "text/plain": [
       "86531"
      ]
     },
     "execution_count": 6,
     "metadata": {},
     "output_type": "execute_result"
    }
   ],
   "source": [
    "df = df[(df['PropertyType'] == \"Residential\") & (df['PropertySubType'] == \"SingleFamilyResidence\")]\n",
    "len(df)"
   ]
  },
  {
   "cell_type": "code",
   "execution_count": 7,
   "metadata": {},
   "outputs": [
    {
     "name": "stdout",
     "output_type": "stream",
     "text": [
      "<class 'pandas.core.frame.DataFrame'>\n",
      "Index: 86531 entries, 11 to 22961\n",
      "Data columns (total 80 columns):\n",
      " #   Column                        Non-Null Count  Dtype  \n",
      "---  ------                        --------------  -----  \n",
      " 0   BuyerAgentAOR                 86520 non-null  object \n",
      " 1   ListAgentAOR                  86520 non-null  object \n",
      " 2   Flooring                      55848 non-null  object \n",
      " 3   ViewYN                        78774 non-null  object \n",
      " 4   WaterfrontYN                  46 non-null     object \n",
      " 5   BasementYN                    2098 non-null   object \n",
      " 6   PoolPrivateYN                 79507 non-null  object \n",
      " 7   OriginalListPrice             86356 non-null  float64\n",
      " 8   ListingKey                    86531 non-null  int64  \n",
      " 9   ListAgentEmail                86227 non-null  object \n",
      " 10  CloseDate                     86531 non-null  object \n",
      " 11  ClosePrice                    86531 non-null  float64\n",
      " 12  ListAgentFirstName            85920 non-null  object \n",
      " 13  ListAgentLastName             86520 non-null  object \n",
      " 14  Latitude                      86525 non-null  float64\n",
      " 15  Longitude                     86525 non-null  float64\n",
      " 16  UnparsedAddress               86442 non-null  object \n",
      " 17  PropertyType                  86531 non-null  object \n",
      " 18  LivingArea                    86481 non-null  float64\n",
      " 19  ListPrice                     86531 non-null  float64\n",
      " 20  DaysOnMarket                  86531 non-null  int64  \n",
      " 21  ListOfficeName                86531 non-null  object \n",
      " 22  BuyerOfficeName               85377 non-null  object \n",
      " 23  CoListOfficeName              20009 non-null  object \n",
      " 24  ListAgentFullName             86522 non-null  object \n",
      " 25  CoListAgentFirstName          19953 non-null  object \n",
      " 26  CoListAgentLastName           20010 non-null  object \n",
      " 27  BuyerAgentMlsId               86416 non-null  object \n",
      " 28  BuyerAgentFirstName           86138 non-null  object \n",
      " 29  BuyerAgentLastName            86507 non-null  object \n",
      " 30  FireplacesTotal               0 non-null      float64\n",
      " 31  AssociationFeeFrequency       22079 non-null  object \n",
      " 32  AboveGradeFinishedArea        0 non-null      float64\n",
      " 33  ListingKeyNumeric             86531 non-null  int64  \n",
      " 34  MLSAreaMajor                  74144 non-null  object \n",
      " 35  TaxAnnualAmount               0 non-null      float64\n",
      " 36  CountyOrParish                86531 non-null  object \n",
      " 37  MlsStatus                     86531 non-null  object \n",
      " 38  ElementarySchool              11621 non-null  object \n",
      " 39  AttachedGarageYN              76244 non-null  object \n",
      " 40  ParkingTotal                  86530 non-null  float64\n",
      " 41  BuilderName                   4061 non-null   object \n",
      " 42  PropertySubType               86531 non-null  object \n",
      " 43  LotSizeAcres                  85008 non-null  float64\n",
      " 44  SubdivisionName               30523 non-null  object \n",
      " 45  BuyerOfficeAOR                83248 non-null  object \n",
      " 46  YearBuilt                     86464 non-null  float64\n",
      " 47  StreetNumberNumeric           86426 non-null  float64\n",
      " 48  ListingId                     86531 non-null  object \n",
      " 49  BathroomsTotalInteger         86513 non-null  float64\n",
      " 50  City                          86463 non-null  object \n",
      " 51  TaxYear                       0 non-null      float64\n",
      " 52  BuildingAreaTotal             5753 non-null   float64\n",
      " 53  BedroomsTotal                 86531 non-null  float64\n",
      " 54  ContractStatusChangeDate      86531 non-null  object \n",
      " 55  ElementarySchoolDistrict      0 non-null      float64\n",
      " 56  CoBuyerAgentFirstName         7809 non-null   object \n",
      " 57  PurchaseContractDate          86527 non-null  object \n",
      " 58  ListingContractDate           86531 non-null  object \n",
      " 59  BelowGradeFinishedArea        584 non-null    float64\n",
      " 60  BusinessType                  0 non-null      object \n",
      " 61  StateOrProvince               86531 non-null  object \n",
      " 62  CoveredSpaces                 0 non-null      float64\n",
      " 63  MiddleOrJuniorSchool          11722 non-null  object \n",
      " 64  FireplaceYN                   86473 non-null  object \n",
      " 65  Stories                       76776 non-null  float64\n",
      " 66  HighSchool                    15209 non-null  object \n",
      " 67  Levels                        79745 non-null  object \n",
      " 68  LotSizeDimensions             5415 non-null   object \n",
      " 69  LotSizeArea                   85013 non-null  float64\n",
      " 70  MainLevelBedrooms             52301 non-null  float64\n",
      " 71  NewConstructionYN             80017 non-null  object \n",
      " 72  GarageSpaces                  83107 non-null  float64\n",
      " 73  HighSchoolDistrict            63307 non-null  object \n",
      " 74  PostalCode                    86530 non-null  object \n",
      " 75  AssociationFee                61009 non-null  float64\n",
      " 76  LotSizeSquareFeet             85006 non-null  float64\n",
      " 77  MiddleOrJuniorSchoolDistrict  0 non-null      float64\n",
      " 78  latfilled                     86531 non-null  bool   \n",
      " 79  lonfilled                     86531 non-null  bool   \n",
      "dtypes: bool(2), float64(27), int64(3), object(48)\n",
      "memory usage: 52.3+ MB\n"
     ]
    }
   ],
   "source": [
    "df.info()"
   ]
  },
  {
   "cell_type": "code",
   "execution_count": 8,
   "metadata": {},
   "outputs": [
    {
     "data": {
      "text/plain": [
       "<bound method NDFrame.describe of                BuyerAgentAOR           ListAgentAOR          Flooring ViewYN  \\\n",
       "11                  SanDiego               SanDiego       Carpet,Tile  False   \n",
       "12                  SanDiego               SanDiego               NaN  False   \n",
       "13                  SanDiego               SanDiego       Carpet,Tile  False   \n",
       "14          CaliforniaDesert       CaliforniaDesert              Tile   True   \n",
       "16     BeverlyHillsGreaterLa  BeverlyHillsGreaterLa               NaN   True   \n",
       "...                      ...                    ...               ...    ...   \n",
       "22930    NorthSanDiegoCounty    NorthSanDiegoCounty               NaN   True   \n",
       "22931             HighDesert             HighDesert     Bamboo,Carpet   True   \n",
       "22946          InlandValleys          InlandValleys               NaN   True   \n",
       "22955    NorthSanDiegoCounty    NorthSanDiegoCounty               NaN   True   \n",
       "22961                   Claw                   Claw  Carpet,Tile,Wood  False   \n",
       "\n",
       "      WaterfrontYN BasementYN PoolPrivateYN  OriginalListPrice  ListingKey  \\\n",
       "11             NaN        NaN         False           530000.0  1104130366   \n",
       "12             NaN        NaN         False           700000.0  1104128744   \n",
       "13             NaN        NaN         False          1680000.0  1104128653   \n",
       "14             NaN        NaN          True          1195000.0  1104128077   \n",
       "16             NaN        NaN           NaN          3800000.0  1104126716   \n",
       "...            ...        ...           ...                ...         ...   \n",
       "22930          NaN        NaN         False          5999000.0  1053100390   \n",
       "22931          NaN        NaN         False         11500000.0  1052425061   \n",
       "22946          NaN        NaN         False           410000.0  1044748983   \n",
       "22955          NaN        NaN         False          1399900.0  1038358314   \n",
       "22961          NaN        NaN         False           550000.0  1035804329   \n",
       "\n",
       "                      ListAgentEmail  ... MainLevelBedrooms  \\\n",
       "11               tom@structuresd.com  ...               NaN   \n",
       "12              chadtrower@gmail.com  ...               NaN   \n",
       "13     lisa@premiercoastalrealty.com  ...               NaN   \n",
       "14      lisa@traditionproperties.net  ...               NaN   \n",
       "16            Djacobson.re@gmail.com  ...               NaN   \n",
       "...                              ...  ...               ...   \n",
       "22930            CARYNGILDEA@AOL.COM  ...               2.0   \n",
       "22931           annamwoods@gmail.com  ...               4.0   \n",
       "22946     miles@milesturnerhomes.com  ...               2.0   \n",
       "22955     dfontana@calwestliving.com  ...               NaN   \n",
       "22961           otis4aloan@yahoo.com  ...               NaN   \n",
       "\n",
       "       NewConstructionYN GarageSpaces   HighSchoolDistrict  PostalCode  \\\n",
       "11                 False          0.0                  NaN       92021   \n",
       "12                 False          0.0                  NaN       92124   \n",
       "13                 False          2.0                  NaN       92130   \n",
       "14                 False          3.0                  NaN       92253   \n",
       "16                 False          NaN                  NaN       91423   \n",
       "...                  ...          ...                  ...         ...   \n",
       "22930                NaN          3.0      Bonsall Unified       92084   \n",
       "22931              False          2.5  Bear Valley Unified       92314   \n",
       "22946               True          2.0                Other       92884   \n",
       "22955               True          2.0      Escondido Union       92026   \n",
       "22961              False          2.0      Compton Unified       90220   \n",
       "\n",
       "       AssociationFee LotSizeSquareFeet MiddleOrJuniorSchoolDistrict  \\\n",
       "11                NaN           13800.0                          NaN   \n",
       "12              170.0            3000.0                          NaN   \n",
       "13               26.0               NaN                          NaN   \n",
       "14              275.0           11761.0                          NaN   \n",
       "16                NaN           15365.0                          NaN   \n",
       "...               ...               ...                          ...   \n",
       "22930             0.0         1742400.0                          NaN   \n",
       "22931             0.0          219024.0                          NaN   \n",
       "22946           284.0            3754.0                          NaN   \n",
       "22955           521.0           87120.0                          NaN   \n",
       "22961             NaN            8010.0                          NaN   \n",
       "\n",
       "       latfilled  lonfilled  \n",
       "11         False      False  \n",
       "12         False      False  \n",
       "13         False      False  \n",
       "14         False      False  \n",
       "16         False      False  \n",
       "...          ...        ...  \n",
       "22930      False      False  \n",
       "22931      False      False  \n",
       "22946      False      False  \n",
       "22955      False      False  \n",
       "22961      False      False  \n",
       "\n",
       "[86531 rows x 80 columns]>"
      ]
     },
     "execution_count": 8,
     "metadata": {},
     "output_type": "execute_result"
    }
   ],
   "source": [
    "df.describe"
   ]
  },
  {
   "cell_type": "markdown",
   "metadata": {},
   "source": [
    "### Cleaning"
   ]
  },
  {
   "cell_type": "code",
   "execution_count": 9,
   "metadata": {},
   "outputs": [],
   "source": [
    "drop_cols = ['ListPrice', 'ListingContractDate', 'DaysOnMarket', 'OriginalListPrice', \n",
    "             'ListAgentAOR', 'OriginalListPrice', 'ListingKey', 'ListingKeyNumeric',\n",
    "             'ListAgentEmail', 'ListAgentFirstName', 'ListAgentLastName', 'ListOfficeName',\n",
    "             'CoListOfficeName', 'ListAgentFullName', 'CoListAgentFirstName', \n",
    "             'CoListAgentLastName', 'ListingId', 'BuyerAgentAOR', 'BuyerAgentMlsId', \n",
    "             'BuyerAgentFirstName', 'BuyerAgentLastName', 'CoBuyerAgentFirstName', \n",
    "             'BuyerOfficeAOR', 'BuyerOfficeName', 'ContractStatusChangeDate', \n",
    "             'PurchaseContractDate', 'MlsStatus', 'latfilled', 'lonfilled'\n",
    "]\n",
    "df = df.drop(columns=[c for c in drop_cols if c in df.columns])"
   ]
  },
  {
   "cell_type": "code",
   "execution_count": 10,
   "metadata": {},
   "outputs": [],
   "source": [
    "yes_no_cols = [\"WaterfrontYN\",\"BasementYN\",\"AttachedGarageYN\",\"ViewYN\",\n",
    "               \"PoolPrivateYN\",\"NewConstructionYN\",\"FireplaceYN\"\n",
    "]\n",
    "\n",
    "df[yes_no_cols] = (df[yes_no_cols].astype(\"boolean\").fillna(False).astype(\"int8\"))"
   ]
  },
  {
   "cell_type": "code",
   "execution_count": 11,
   "metadata": {},
   "outputs": [
    {
     "data": {
      "text/plain": [
       "Flooring                        30683\n",
       "ViewYN                              0\n",
       "WaterfrontYN                        0\n",
       "BasementYN                          0\n",
       "PoolPrivateYN                       0\n",
       "CloseDate                           0\n",
       "ClosePrice                          0\n",
       "Latitude                            6\n",
       "Longitude                           6\n",
       "UnparsedAddress                    89\n",
       "PropertyType                        0\n",
       "LivingArea                         50\n",
       "FireplacesTotal                 86531\n",
       "AssociationFeeFrequency         64452\n",
       "AboveGradeFinishedArea          86531\n",
       "MLSAreaMajor                    12387\n",
       "TaxAnnualAmount                 86531\n",
       "CountyOrParish                      0\n",
       "ElementarySchool                74910\n",
       "AttachedGarageYN                    0\n",
       "ParkingTotal                        1\n",
       "BuilderName                     82470\n",
       "PropertySubType                     0\n",
       "LotSizeAcres                     1523\n",
       "SubdivisionName                 56008\n",
       "YearBuilt                          67\n",
       "StreetNumberNumeric               105\n",
       "BathroomsTotalInteger              18\n",
       "City                               68\n",
       "TaxYear                         86531\n",
       "BuildingAreaTotal               80778\n",
       "BedroomsTotal                       0\n",
       "ElementarySchoolDistrict        86531\n",
       "BelowGradeFinishedArea          85947\n",
       "BusinessType                    86531\n",
       "StateOrProvince                     0\n",
       "CoveredSpaces                   86531\n",
       "MiddleOrJuniorSchool            74809\n",
       "FireplaceYN                         0\n",
       "Stories                          9755\n",
       "HighSchool                      71322\n",
       "Levels                           6786\n",
       "LotSizeDimensions               81116\n",
       "LotSizeArea                      1518\n",
       "MainLevelBedrooms               34230\n",
       "NewConstructionYN                   0\n",
       "GarageSpaces                     3424\n",
       "HighSchoolDistrict              23224\n",
       "PostalCode                          1\n",
       "AssociationFee                  25522\n",
       "LotSizeSquareFeet                1525\n",
       "MiddleOrJuniorSchoolDistrict    86531\n",
       "dtype: int64"
      ]
     },
     "execution_count": 11,
     "metadata": {},
     "output_type": "execute_result"
    }
   ],
   "source": [
    "df.isna().sum()"
   ]
  },
  {
   "cell_type": "code",
   "execution_count": 13,
   "metadata": {},
   "outputs": [
    {
     "data": {
      "text/plain": [
       "MiddleOrJuniorSchoolDistrict    1.000000\n",
       "BusinessType                    1.000000\n",
       "TaxAnnualAmount                 1.000000\n",
       "AboveGradeFinishedArea          1.000000\n",
       "FireplacesTotal                 1.000000\n",
       "TaxYear                         1.000000\n",
       "ElementarySchoolDistrict        1.000000\n",
       "CoveredSpaces                   1.000000\n",
       "BelowGradeFinishedArea          0.993251\n",
       "BuilderName                     0.953069\n",
       "LotSizeDimensions               0.937421\n",
       "BuildingAreaTotal               0.933515\n",
       "ElementarySchool                0.865701\n",
       "MiddleOrJuniorSchool            0.864534\n",
       "HighSchool                      0.824236\n",
       "AssociationFeeFrequency         0.744843\n",
       "SubdivisionName                 0.647259\n",
       "MainLevelBedrooms               0.395581\n",
       "Flooring                        0.354590\n",
       "AssociationFee                  0.294946\n",
       "HighSchoolDistrict              0.268389\n",
       "MLSAreaMajor                    0.143151\n",
       "Stories                         0.112734\n",
       "Levels                          0.078423\n",
       "GarageSpaces                    0.039570\n",
       "LotSizeSquareFeet               0.017624\n",
       "LotSizeAcres                    0.017601\n",
       "LotSizeArea                     0.017543\n",
       "StreetNumberNumeric             0.001213\n",
       "UnparsedAddress                 0.001029\n",
       "City                            0.000786\n",
       "YearBuilt                       0.000774\n",
       "LivingArea                      0.000578\n",
       "BathroomsTotalInteger           0.000208\n",
       "Longitude                       0.000069\n",
       "Latitude                        0.000069\n",
       "ParkingTotal                    0.000012\n",
       "PostalCode                      0.000012\n",
       "NewConstructionYN               0.000000\n",
       "WaterfrontYN                    0.000000\n",
       "BasementYN                      0.000000\n",
       "AttachedGarageYN                0.000000\n",
       "PoolPrivateYN                   0.000000\n",
       "FireplaceYN                     0.000000\n",
       "CloseDate                       0.000000\n",
       "ClosePrice                      0.000000\n",
       "BedroomsTotal                   0.000000\n",
       "PropertyType                    0.000000\n",
       "ViewYN                          0.000000\n",
       "PropertySubType                 0.000000\n",
       "CountyOrParish                  0.000000\n",
       "StateOrProvince                 0.000000\n",
       "dtype: float64"
      ]
     },
     "execution_count": 13,
     "metadata": {},
     "output_type": "execute_result"
    }
   ],
   "source": [
    "missing_rate = df.isnull().mean().sort_values(ascending=False)\n",
    "missing_rate"
   ]
  },
  {
   "cell_type": "code",
   "execution_count": 14,
   "metadata": {},
   "outputs": [
    {
     "data": {
      "text/plain": [
       "['MiddleOrJuniorSchoolDistrict',\n",
       " 'BusinessType',\n",
       " 'TaxAnnualAmount',\n",
       " 'AboveGradeFinishedArea',\n",
       " 'FireplacesTotal',\n",
       " 'TaxYear',\n",
       " 'ElementarySchoolDistrict',\n",
       " 'CoveredSpaces',\n",
       " 'BelowGradeFinishedArea',\n",
       " 'BuilderName',\n",
       " 'LotSizeDimensions',\n",
       " 'BuildingAreaTotal',\n",
       " 'ElementarySchool',\n",
       " 'MiddleOrJuniorSchool',\n",
       " 'HighSchool',\n",
       " 'AssociationFeeFrequency',\n",
       " 'SubdivisionName']"
      ]
     },
     "execution_count": 14,
     "metadata": {},
     "output_type": "execute_result"
    }
   ],
   "source": [
    "drop = missing_rate[missing_rate > 0.6].index.tolist()\n",
    "drop"
   ]
  },
  {
   "cell_type": "code",
   "execution_count": 15,
   "metadata": {},
   "outputs": [],
   "source": [
    "df.drop(columns=[c for c in drop if c in df.columns], inplace=True)"
   ]
  },
  {
   "cell_type": "code",
   "execution_count": 16,
   "metadata": {},
   "outputs": [
    {
     "data": {
      "text/plain": [
       "Flooring                 30683\n",
       "ViewYN                       0\n",
       "WaterfrontYN                 0\n",
       "BasementYN                   0\n",
       "PoolPrivateYN                0\n",
       "CloseDate                    0\n",
       "ClosePrice                   0\n",
       "Latitude                     6\n",
       "Longitude                    6\n",
       "UnparsedAddress             89\n",
       "PropertyType                 0\n",
       "LivingArea                  50\n",
       "MLSAreaMajor             12387\n",
       "CountyOrParish               0\n",
       "AttachedGarageYN             0\n",
       "ParkingTotal                 1\n",
       "PropertySubType              0\n",
       "LotSizeAcres              1523\n",
       "YearBuilt                   67\n",
       "StreetNumberNumeric        105\n",
       "BathroomsTotalInteger       18\n",
       "City                        68\n",
       "BedroomsTotal                0\n",
       "StateOrProvince              0\n",
       "FireplaceYN                  0\n",
       "Stories                   9755\n",
       "Levels                    6786\n",
       "LotSizeArea               1518\n",
       "MainLevelBedrooms        34230\n",
       "NewConstructionYN            0\n",
       "GarageSpaces              3424\n",
       "HighSchoolDistrict       23224\n",
       "PostalCode                   1\n",
       "AssociationFee           25522\n",
       "LotSizeSquareFeet         1525\n",
       "dtype: int64"
      ]
     },
     "execution_count": 16,
     "metadata": {},
     "output_type": "execute_result"
    }
   ],
   "source": [
    "df.isna().sum()"
   ]
  },
  {
   "cell_type": "code",
   "execution_count": 17,
   "metadata": {},
   "outputs": [
    {
     "data": {
      "text/plain": [
       "Index(['Flooring', 'ViewYN', 'WaterfrontYN', 'BasementYN', 'PoolPrivateYN',\n",
       "       'CloseDate', 'ClosePrice', 'Latitude', 'Longitude', 'UnparsedAddress',\n",
       "       'PropertyType', 'LivingArea', 'MLSAreaMajor', 'CountyOrParish',\n",
       "       'AttachedGarageYN', 'ParkingTotal', 'PropertySubType', 'LotSizeAcres',\n",
       "       'YearBuilt', 'StreetNumberNumeric', 'BathroomsTotalInteger', 'City',\n",
       "       'BedroomsTotal', 'StateOrProvince', 'FireplaceYN', 'Stories', 'Levels',\n",
       "       'LotSizeArea', 'MainLevelBedrooms', 'NewConstructionYN', 'GarageSpaces',\n",
       "       'HighSchoolDistrict', 'PostalCode', 'AssociationFee',\n",
       "       'LotSizeSquareFeet'],\n",
       "      dtype='object')"
      ]
     },
     "execution_count": 17,
     "metadata": {},
     "output_type": "execute_result"
    }
   ],
   "source": [
    "df.columns"
   ]
  },
  {
   "cell_type": "markdown",
   "metadata": {},
   "source": [
    "### Inspect Values"
   ]
  },
  {
   "cell_type": "code",
   "execution_count": 18,
   "metadata": {},
   "outputs": [
    {
     "data": {
      "text/plain": [
       "array(['Carpet,Tile', nan, 'Tile', 'Stone', 'Wood', 'Vinyl',\n",
       "       'Carpet,Vinyl', 'Tile,Wood', 'Carpet,Stone,Wood',\n",
       "       'Carpet,Laminate', 'Laminate,Wood', 'Carpet,Wood', 'Carpet',\n",
       "       'Stone,Wood', 'Laminate', 'Stone,Tile,Wood',\n",
       "       'Carpet,Laminate,Tile', 'Carpet,Tile,Wood', 'SeeRemarks',\n",
       "       'Carpet,Stone,Tile', 'Carpet,Vinyl,Wood', 'Concrete,Laminate',\n",
       "       'Laminate,Tile', 'Carpet,Tile,Vinyl', 'Vinyl,Wood', 'Stone,Vinyl',\n",
       "       'Carpet,Laminate,Stone', 'SeeRemarks,Tile,Vinyl', 'Concrete',\n",
       "       'Concrete,Tile', 'Carpet,Stone', 'Carpet,Laminate,Wood',\n",
       "       'Carpet,Laminate,Tile,Vinyl', 'SeeRemarks,Wood',\n",
       "       'Carpet,Laminate,Tile,Wood', 'Laminate,Tile,Wood',\n",
       "       'Carpet,Stone,Vinyl', 'Tile,Vinyl', 'Concrete,SeeRemarks,Vinyl',\n",
       "       'Carpet,Laminate,Stone,Vinyl', 'Brick,Carpet,Stone,Tile',\n",
       "       'Concrete,Vinyl', 'SeeRemarks,Tile,Wood',\n",
       "       'Carpet,Laminate,Stone,Wood', 'Concrete,Laminate,Tile',\n",
       "       'Bamboo,Carpet,Laminate,Tile', 'Carpet,Stone,Tile,Wood',\n",
       "       'Laminate,Vinyl', 'Tile,Vinyl,Wood', 'SeeRemarks,Vinyl',\n",
       "       'Carpet,Laminate,Vinyl', 'Carpet,SeeRemarks,Tile,Wood',\n",
       "       'Carpet,Laminate,Vinyl,Wood', 'Stone,Tile',\n",
       "       'Concrete,Laminate,Tile,Wood', 'Carpet,SeeRemarks,Tile',\n",
       "       'Laminate,Stone,Wood', 'Carpet,Tile,Vinyl,Wood', 'Laminate,Stone',\n",
       "       'Carpet,SeeRemarks', 'Laminate,Tile,Vinyl,Wood',\n",
       "       'Carpet,SeeRemarks,Wood', 'SeeRemarks,Tile',\n",
       "       'Laminate,Stone,Tile,Wood', 'Carpet,Laminate,SeeRemarks',\n",
       "       'SeeRemarks,Stone,Wood', 'Bamboo,Wood', 'Bamboo,Tile',\n",
       "       'Concrete,Wood', 'Carpet,Concrete', 'Bamboo,SeeRemarks',\n",
       "       'Carpet,Stone,Vinyl,Wood', 'Carpet,Laminate,SeeRemarks,Vinyl,Wood',\n",
       "       'Carpet,Concrete,Vinyl', 'Brick,Carpet,Tile',\n",
       "       'Laminate,Tile,Vinyl', 'Carpet,SeeRemarks,Tile,Vinyl,Wood',\n",
       "       'Carpet,Concrete,Tile,Wood', 'Brick,Tile,Vinyl,Wood',\n",
       "       'Carpet,Concrete,Laminate', 'Carpet,SeeRemarks,Stone,Tile',\n",
       "       'Laminate,Stone,Tile', 'Concrete,Stone,Wood',\n",
       "       'Carpet,Laminate,Stone,Tile', 'Laminate,SeeRemarks,Tile,Wood',\n",
       "       'Carpet,Concrete,Laminate,Tile', 'Laminate,Vinyl,Wood',\n",
       "       'Concrete,Tile,Wood', 'Concrete,Stone,Tile,Wood', 'Brick',\n",
       "       'Concrete,Tile,Vinyl', 'Brick,Stone,Wood', 'Carpet,Concrete,Wood',\n",
       "       'Laminate,SeeRemarks,Stone,Wood', 'Bamboo',\n",
       "       'Carpet,Concrete,Stone,Tile,Vinyl', 'Carpet,Concrete,SeeRemarks',\n",
       "       'Laminate,SeeRemarks', 'Carpet,Laminate,SeeRemarks,Vinyl',\n",
       "       'Concrete,Laminate,Vinyl,Wood', 'Stone,Vinyl,Wood',\n",
       "       'Brick,Tile,Vinyl', 'Carpet,Concrete,Laminate,Vinyl',\n",
       "       'Bamboo,Carpet,Vinyl,Wood', 'Carpet,Stone,Tile,Vinyl',\n",
       "       'SeeRemarks,Tile,Vinyl,Wood', 'Bamboo,Carpet,Tile',\n",
       "       'Laminate,SeeRemarks,Tile', 'Bamboo,Tile,Wood',\n",
       "       'Carpet,Concrete,Tile', 'Bamboo,Carpet', 'Carpet,SeeRemarks,Stone',\n",
       "       'Carpet,Concrete,Tile,Vinyl', 'Carpet,SeeRemarks,Vinyl',\n",
       "       'Carpet,Concrete,Stone,Tile,Wood', 'Brick,Laminate',\n",
       "       'Bamboo,Carpet,Vinyl', 'Carpet,Concrete,Stone,Wood',\n",
       "       'Carpet,Laminate,SeeRemarks,Wood', 'Brick,Wood',\n",
       "       'Carpet,Concrete,Laminate,Wood', 'Carpet,Concrete,Stone',\n",
       "       'Stone,Tile,Vinyl,Wood', 'Bamboo,Carpet,SeeRemarks,Tile',\n",
       "       'Concrete,Tile,Vinyl,Wood', 'Bamboo,Laminate,SeeRemarks,Tile,Wood',\n",
       "       'Laminate,SeeRemarks,Wood', 'Laminate,Stone,Vinyl,Wood',\n",
       "       'Brick,Carpet,Laminate,Tile,Vinyl', 'Concrete,Laminate,Vinyl',\n",
       "       'Carpet,Laminate,SeeRemarks,Tile', 'Bamboo,Laminate,Tile,Wood',\n",
       "       'Bamboo,Tile,Vinyl', 'Laminate,SeeRemarks,Vinyl',\n",
       "       'Carpet,Laminate,SeeRemarks,Tile,Wood', 'Brick,Carpet,SeeRemarks',\n",
       "       'Carpet,Laminate,Stone,Tile,Vinyl',\n",
       "       'Laminate,SeeRemarks,Tile,Vinyl', 'Bamboo,Laminate,Tile',\n",
       "       'Carpet,SeeRemarks,Tile,Vinyl', 'Brick,Carpet,Tile,Wood',\n",
       "       'Bamboo,Laminate', 'Carpet,Laminate,Tile,Vinyl,Wood',\n",
       "       'Carpet,Laminate,SeeRemarks,Tile,Vinyl', 'Stone,Tile,Vinyl',\n",
       "       'Bamboo,Vinyl,Wood', 'Brick,Laminate,Tile', 'Bamboo,Stone',\n",
       "       'SeeRemarks,Stone', 'Carpet,Laminate,Stone,Tile,Wood',\n",
       "       'Concrete,Laminate,Stone,Tile,Wood', 'Concrete,Stone',\n",
       "       'Bamboo,Carpet,Tile,Wood', 'Bamboo,Carpet,Wood',\n",
       "       'SeeRemarks,Stone,Tile,Wood',\n",
       "       'Bamboo,Carpet,Concrete,SeeRemarks,Tile,Wood',\n",
       "       'Brick,Carpet,Concrete,Stone,Vinyl,Wood', 'Brick,Carpet',\n",
       "       'SeeRemarks,Vinyl,Wood', 'Carpet,SeeRemarks,Vinyl,Wood',\n",
       "       'Concrete,Vinyl,Wood', 'Laminate,Stone,Vinyl',\n",
       "       'Carpet,Stone,Tile,Vinyl,Wood', 'Bamboo,SeeRemarks,Stone',\n",
       "       'Carpet,SeeRemarks,Stone,Tile,Wood', 'Brick,Tile,Wood',\n",
       "       'Concrete,SeeRemarks,Wood', 'Brick,Carpet,Wood',\n",
       "       'Concrete,SeeRemarks,Tile,Wood', 'Brick,Vinyl',\n",
       "       'Carpet,Concrete,Laminate,Tile,Wood', 'Laminate,SeeRemarks,Stone',\n",
       "       'Carpet,Concrete,SeeRemarks,Tile', 'Carpet,SeeRemarks,Stone,Wood',\n",
       "       'Bamboo,Concrete,Tile', 'Concrete,SeeRemarks',\n",
       "       'Laminate,SeeRemarks,Vinyl,Wood',\n",
       "       'Concrete,SeeRemarks,Stone,Vinyl',\n",
       "       'Carpet,Concrete,SeeRemarks,Tile,Wood',\n",
       "       'Laminate,Stone,Tile,Vinyl,Wood',\n",
       "       'Carpet,Concrete,Tile,Vinyl,Wood',\n",
       "       'Carpet,Concrete,Laminate,Tile,Vinyl',\n",
       "       'Bamboo,Carpet,Laminate,SeeRemarks,Tile,Wood',\n",
       "       'SeeRemarks,Stone,Tile', 'Bamboo,Stone,Wood',\n",
       "       'Bamboo,Carpet,Stone,Tile,Wood', 'Bamboo,Stone,Tile',\n",
       "       'Bamboo,Carpet,Laminate', 'Concrete,Laminate,Wood', 'Bamboo,Vinyl',\n",
       "       'Laminate,Stone,Tile,Vinyl', 'Brick,Carpet,Laminate',\n",
       "       'Brick,Concrete,Wood', 'Carpet,Concrete,Laminate,SeeRemarks',\n",
       "       'Carpet,Concrete,Laminate,SeeRemarks,Stone',\n",
       "       'Laminate,SeeRemarks,Stone,Tile,Wood',\n",
       "       'Carpet,Concrete,Stone,Tile', 'Concrete,Laminate,SeeRemarks,Tile',\n",
       "       'Carpet,Concrete,Laminate,Stone,Tile,Wood', 'Bamboo,Carpet,Stone',\n",
       "       'Bamboo,Carpet,Stone,Tile', 'Carpet,Laminate,Stone,Vinyl,Wood',\n",
       "       'Bamboo,Tile,Vinyl,Wood', 'Bamboo,Laminate,Stone,Tile,Wood',\n",
       "       'Bamboo,Brick,Carpet', 'Bamboo,SeeRemarks,Tile',\n",
       "       'Bamboo,Laminate,Wood', 'Brick,Tile', 'Bamboo,Carpet,Tile,Vinyl',\n",
       "       'Carpet,Concrete,SeeRemarks,Stone,Wood',\n",
       "       'Bamboo,Carpet,Laminate,Vinyl',\n",
       "       'Carpet,Laminate,SeeRemarks,Stone,Tile,Wood',\n",
       "       'Concrete,Stone,Tile', 'Carpet,Concrete,SeeRemarks,Vinyl',\n",
       "       'Bamboo,Carpet,Stone,Vinyl', 'Bamboo,SeeRemarks,Tile,Wood',\n",
       "       'Bamboo,Carpet,Laminate,SeeRemarks,Tile',\n",
       "       'Concrete,Stone,Vinyl,Wood', 'Concrete,SeeRemarks,Tile',\n",
       "       'Laminate,SeeRemarks,Tile,Vinyl,Wood',\n",
       "       'Concrete,Laminate,Tile,Vinyl', 'Concrete,SeeRemarks,Stone',\n",
       "       'Bamboo,Brick,Wood', 'Brick,Carpet,Stone,Wood',\n",
       "       'Concrete,SeeRemarks,Tile,Vinyl,Wood',\n",
       "       'Bamboo,Carpet,SeeRemarks,Tile,Wood', 'SeeRemarks,Stone,Vinyl',\n",
       "       'Carpet,Laminate,SeeRemarks,Tile,Vinyl,Wood',\n",
       "       'Carpet,Concrete,SeeRemarks,Tile,Vinyl,Wood',\n",
       "       'Bamboo,Laminate,Vinyl', 'Brick,Carpet,Laminate,Vinyl,Wood',\n",
       "       'Bamboo,Laminate,Stone,Tile',\n",
       "       'Carpet,SeeRemarks,Stone,Tile,Vinyl,Wood',\n",
       "       'Carpet,Laminate,SeeRemarks,Stone',\n",
       "       'Carpet,Concrete,Laminate,Vinyl,Wood',\n",
       "       'Bamboo,Carpet,Laminate,Tile,Vinyl',\n",
       "       'Carpet,Concrete,Laminate,SeeRemarks,Tile', 'Brick,Carpet,Vinyl',\n",
       "       'Concrete,Laminate,SeeRemarks', 'Concrete,SeeRemarks,Stone,Wood',\n",
       "       'Carpet,Concrete,Vinyl,Wood', 'Bamboo,Concrete'], dtype=object)"
      ]
     },
     "execution_count": 18,
     "metadata": {},
     "output_type": "execute_result"
    }
   ],
   "source": [
    "df.Flooring.unique()"
   ]
  },
  {
   "cell_type": "code",
   "execution_count": 20,
   "metadata": {},
   "outputs": [
    {
     "data": {
      "text/plain": [
       "array([0, 1], dtype=int8)"
      ]
     },
     "execution_count": 20,
     "metadata": {},
     "output_type": "execute_result"
    }
   ],
   "source": [
    "np.unique(df['ViewYN'])"
   ]
  },
  {
   "cell_type": "code",
   "execution_count": 21,
   "metadata": {},
   "outputs": [
    {
     "data": {
      "text/plain": [
       "array([0, 1], dtype=int8)"
      ]
     },
     "execution_count": 21,
     "metadata": {},
     "output_type": "execute_result"
    }
   ],
   "source": [
    "np.unique(df['PoolPrivateYN'])"
   ]
  },
  {
   "cell_type": "code",
   "execution_count": 22,
   "metadata": {},
   "outputs": [
    {
     "data": {
      "text/plain": [
       "array(['2025-01-01', '2025-01-02', '2025-01-03', '2025-01-04',\n",
       "       '2025-01-05', '2025-01-06', '2025-01-07', '2025-01-08',\n",
       "       '2025-01-09', '2025-01-10', '2025-01-11', '2025-01-12',\n",
       "       '2025-01-13', '2025-01-14', '2025-01-15', '2025-01-16',\n",
       "       '2025-01-17', '2025-01-18', '2025-01-19', '2025-01-20',\n",
       "       '2025-01-21', '2025-01-22', '2025-01-23', '2025-01-24',\n",
       "       '2025-01-25', '2025-01-26', '2025-01-27', '2025-01-28',\n",
       "       '2025-01-29', '2025-01-30', '2025-01-31', '2025-02-01',\n",
       "       '2025-02-02', '2025-02-03', '2025-02-04', '2025-02-05',\n",
       "       '2025-02-06', '2025-02-07', '2025-02-08', '2025-02-09',\n",
       "       '2025-02-10', '2025-02-11', '2025-02-12', '2025-02-13',\n",
       "       '2025-02-14', '2025-02-15', '2025-02-16', '2025-02-17',\n",
       "       '2025-02-18', '2025-02-19', '2025-02-20', '2025-02-21',\n",
       "       '2025-02-22', '2025-02-23', '2025-02-24', '2025-02-25',\n",
       "       '2025-02-26', '2025-02-27', '2025-02-28', '2025-03-01',\n",
       "       '2025-03-02', '2025-03-03', '2025-03-04', '2025-03-05',\n",
       "       '2025-03-06', '2025-03-07', '2025-03-08', '2025-03-09',\n",
       "       '2025-03-10', '2025-03-11', '2025-03-12', '2025-03-13',\n",
       "       '2025-03-14', '2025-03-15', '2025-03-16', '2025-03-17',\n",
       "       '2025-03-18', '2025-03-19', '2025-03-20', '2025-03-21',\n",
       "       '2025-03-22', '2025-03-23', '2025-03-24', '2025-03-25',\n",
       "       '2025-03-26', '2025-03-27', '2025-03-28', '2025-03-29',\n",
       "       '2025-03-30', '2025-03-31', '2025-04-01', '2025-04-02',\n",
       "       '2025-04-03', '2025-04-04', '2025-04-05', '2025-04-07',\n",
       "       '2025-04-08', '2025-04-09', '2025-04-10', '2025-04-11',\n",
       "       '2025-04-12', '2025-04-13', '2025-04-14', '2025-04-15',\n",
       "       '2025-04-16', '2025-04-17', '2025-04-18', '2025-04-19',\n",
       "       '2025-04-20', '2025-04-21', '2025-04-22', '2025-04-23',\n",
       "       '2025-04-24', '2025-04-25', '2025-04-26', '2025-04-27',\n",
       "       '2025-04-28', '2025-04-29', '2025-04-30', '2025-05-01',\n",
       "       '2025-05-02', '2025-05-03', '2025-05-04', '2025-05-05',\n",
       "       '2025-05-06', '2025-05-07', '2025-05-08', '2025-05-09',\n",
       "       '2025-05-10', '2025-05-12', '2025-05-13', '2025-05-14',\n",
       "       '2025-05-15', '2025-05-16', '2025-05-17', '2025-05-18',\n",
       "       '2025-05-19', '2025-05-20', '2025-05-21', '2025-05-22',\n",
       "       '2025-05-23', '2025-05-24', '2025-05-25', '2025-05-26',\n",
       "       '2025-05-27', '2025-05-28', '2025-05-29', '2025-05-30',\n",
       "       '2025-05-31', '2025-06-01', '2025-06-02', '2025-06-03',\n",
       "       '2025-06-04', '2025-06-05', '2025-06-06', '2025-06-07',\n",
       "       '2025-06-08', '2025-06-09', '2025-06-10', '2025-06-11',\n",
       "       '2025-06-12', '2025-06-13', '2025-06-14', '2025-06-15',\n",
       "       '2025-06-16', '2025-06-17', '2025-06-18', '2025-06-19',\n",
       "       '2025-06-20', '2025-06-21', '2025-06-22', '2025-06-23',\n",
       "       '2025-06-24', '2025-06-25', '2025-06-26', '2025-06-27',\n",
       "       '2025-06-28', '2025-06-29', '2025-06-30', '2025-07-01',\n",
       "       '2025-07-02', '2025-07-03', '2025-07-04', '2025-07-05',\n",
       "       '2025-07-06', '2025-07-07', '2025-07-08', '2025-07-09',\n",
       "       '2025-07-10', '2025-07-11', '2025-07-12', '2025-07-13',\n",
       "       '2025-07-14', '2025-07-15', '2025-07-16', '2025-07-17',\n",
       "       '2025-07-18', '2025-07-19', '2025-07-20', '2025-07-21',\n",
       "       '2025-07-22', '2025-07-23', '2025-07-24', '2025-07-25',\n",
       "       '2025-07-26', '2025-07-27', '2025-07-28', '2025-07-29',\n",
       "       '2025-07-30', '2025-07-31', '2025-08-01', '2025-08-02',\n",
       "       '2025-08-03', '2025-08-04', '2025-08-05', '2025-08-06',\n",
       "       '2025-08-07', '2025-08-08', '2025-08-09', '2025-08-10',\n",
       "       '2025-08-11', '2025-08-12', '2025-08-13', '2025-08-14',\n",
       "       '2025-08-15', '2025-08-16', '2025-08-17', '2025-08-18',\n",
       "       '2025-08-19', '2025-08-20', '2025-08-21', '2025-08-22',\n",
       "       '2025-08-23', '2025-08-24', '2025-08-25', '2025-08-26',\n",
       "       '2025-08-27', '2025-08-28', '2025-08-29', '2025-08-30',\n",
       "       '2025-08-31'], dtype=object)"
      ]
     },
     "execution_count": 22,
     "metadata": {},
     "output_type": "execute_result"
    }
   ],
   "source": [
    "np.unique(df['CloseDate'])"
   ]
  },
  {
   "cell_type": "code",
   "execution_count": 23,
   "metadata": {},
   "outputs": [
    {
     "data": {
      "text/plain": [
       "array([0.00e+00, 1.30e+04, 1.50e+04, ..., 6.13e+08, 9.00e+08, 9.70e+08])"
      ]
     },
     "execution_count": 23,
     "metadata": {},
     "output_type": "execute_result"
    }
   ],
   "source": [
    "np.unique(df['ClosePrice'])"
   ]
  },
  {
   "cell_type": "code",
   "execution_count": 24,
   "metadata": {},
   "outputs": [
    {
     "data": {
      "text/plain": [
       "array([  0.  ,   1.  ,   1.5 ,   2.  ,   2.25,   2.5 ,   3.  ,   3.5 ,\n",
       "         4.  ,   4.5 ,   5.  ,   5.5 ,   6.  ,   7.  ,   8.  ,   9.  ,\n",
       "        10.  ,  11.  ,  12.  ,  13.  ,  14.  ,  15.  ,  16.  ,  17.  ,\n",
       "        18.  ,  19.  ,  20.  ,  22.  ,  23.  ,  24.  ,  40.  , 400.  ,\n",
       "       500.  ,    nan])"
      ]
     },
     "execution_count": 24,
     "metadata": {},
     "output_type": "execute_result"
    }
   ],
   "source": [
    "np.unique(df['GarageSpaces'])"
   ]
  },
  {
   "cell_type": "code",
   "execution_count": 25,
   "metadata": {},
   "outputs": [
    {
     "data": {
      "text/plain": [
       "array([  0.,   1.,   2.,   3.,   4.,   5.,   6.,   7.,   8.,   9.,  10.,\n",
       "        11.,  12.,  21.,  22.,  31.,  32.,  33.,  34.,  42., 444.,  nan])"
      ]
     },
     "execution_count": 25,
     "metadata": {},
     "output_type": "execute_result"
    }
   ],
   "source": [
    "np.unique(df['MainLevelBedrooms'])"
   ]
  },
  {
   "cell_type": "code",
   "execution_count": 26,
   "metadata": {},
   "outputs": [
    {
     "data": {
      "text/plain": [
       "array(['One', 'Two', nan, 'ThreeOrMore', 'MultiSplit', 'One,Two',\n",
       "       'ThreeOrMore,MultiSplit', 'Two,MultiSplit', 'One,MultiSplit',\n",
       "       'One,Two,MultiSplit', 'Two,ThreeOrMore', 'One,ThreeOrMore',\n",
       "       'Two,ThreeOrMore,MultiSplit', 'One,Two,ThreeOrMore,MultiSplit',\n",
       "       'One,Two,ThreeOrMore', 'Two,One', 'MultiSplit,One',\n",
       "       'ThreeOrMore,One'], dtype=object)"
      ]
     },
     "execution_count": 26,
     "metadata": {},
     "output_type": "execute_result"
    }
   ],
   "source": [
    "df.Levels.unique()"
   ]
  },
  {
   "cell_type": "code",
   "execution_count": 27,
   "metadata": {},
   "outputs": [
    {
     "data": {
      "text/plain": [
       "array([1800., 1801., 1860., 1862., 1867., 1870., 1872., 1874., 1875.,\n",
       "       1876., 1877., 1878., 1880., 1881., 1883., 1885., 1886., 1887.,\n",
       "       1888., 1889., 1890., 1891., 1892., 1893., 1894., 1895., 1896.,\n",
       "       1897., 1898., 1899., 1900., 1901., 1902., 1903., 1904., 1905.,\n",
       "       1906., 1907., 1908., 1909., 1910., 1911., 1912., 1913., 1914.,\n",
       "       1915., 1916., 1917., 1918., 1919., 1920., 1921., 1922., 1923.,\n",
       "       1924., 1925., 1926., 1927., 1928., 1929., 1930., 1931., 1932.,\n",
       "       1933., 1934., 1935., 1936., 1937., 1938., 1939., 1940., 1941.,\n",
       "       1942., 1943., 1944., 1945., 1946., 1947., 1948., 1949., 1950.,\n",
       "       1951., 1952., 1953., 1954., 1955., 1956., 1957., 1958., 1959.,\n",
       "       1960., 1961., 1962., 1963., 1964., 1965., 1966., 1967., 1968.,\n",
       "       1969., 1970., 1971., 1972., 1973., 1974., 1975., 1976., 1977.,\n",
       "       1978., 1979., 1980., 1981., 1982., 1983., 1984., 1985., 1986.,\n",
       "       1987., 1988., 1989., 1990., 1991., 1992., 1993., 1994., 1995.,\n",
       "       1996., 1997., 1998., 1999., 2000., 2001., 2002., 2003., 2004.,\n",
       "       2005., 2006., 2007., 2008., 2009., 2010., 2011., 2012., 2013.,\n",
       "       2014., 2015., 2016., 2017., 2018., 2019., 2020., 2021., 2022.,\n",
       "       2023., 2024., 2025., 2026.,   nan])"
      ]
     },
     "execution_count": 27,
     "metadata": {},
     "output_type": "execute_result"
    }
   ],
   "source": [
    "np.unique(df['YearBuilt'])"
   ]
  },
  {
   "cell_type": "code",
   "execution_count": 28,
   "metadata": {},
   "outputs": [
    {
     "data": {
      "text/plain": [
       "array(['El Cajon', 'San Diego', 'La Quinta', 'Sherman Oaks', 'Salinas',\n",
       "       'Bell', 'San Luis Obispo', 'Laguna Hills', 'Coronado', 'Venice',\n",
       "       'Brea', 'Corona Del Mar', 'Santa Ana', 'Claremont', 'San Jose',\n",
       "       'Newport Beach', 'La Verne', 'Beverly Hills', 'Manhattan Beach',\n",
       "       'Paso Robles', 'Encinitas', 'Belmont', 'Los Angeles',\n",
       "       'Palm Springs', 'Woodland Hills', 'Studio City', 'Long Beach',\n",
       "       'Temecula', 'Discovery Bay', 'Hayward', 'Morgan Hill', 'Orange',\n",
       "       'Glendale', 'Boulder Creek', 'Santa Clara', 'Huntington Beach',\n",
       "       'San Ramon', 'San Pedro', 'Torrance', 'Porter Ranch', 'Indio',\n",
       "       'Canyon Country', 'Simi Valley', 'Perris', 'Pacific Grove',\n",
       "       'Newport Coast', 'Rancho Santa Margarita', 'Oxnard', 'Dana Point',\n",
       "       'San Francisco', 'Ontario', 'Antioch', 'Berkeley', 'Livermore',\n",
       "       'Valley Village', 'Bermuda Dunes', 'Saratoga', 'Lake Elsinore',\n",
       "       'North Hollywood', 'North Hills', 'San Clemente', 'Oakland',\n",
       "       'San Juan Capistrano', 'Victorville', 'Oceanside', 'Paradise',\n",
       "       'Redwood City', 'Lake Forest', 'Yuba City', 'Castro Valley',\n",
       "       'Westminster', 'Ventura', 'Hacienda Heights', 'Cupertino',\n",
       "       'Orinda', 'San Jacinto', 'Hemet', 'Oroville', 'Northridge',\n",
       "       'Palo Alto', 'Mountain View', 'Alameda', 'Hidden Hills', 'Gilroy',\n",
       "       'Bakersfield', 'Fremont', 'Tracy', 'Carson', 'Vallejo',\n",
       "       'Santa Cruz', 'Whittier', 'Burlingame', 'Danville', 'Carlsbad',\n",
       "       'Redondo Beach', 'San Marcos', 'Union City', 'Pittsburg',\n",
       "       'Los Altos', 'Martinez', 'Pasadena', 'Pioneertown', 'Fallbrook',\n",
       "       'San Bernardino', 'Yorba Linda', 'Barstow', 'Calabasas',\n",
       "       'Indian Wells', 'Chula Vista', 'Blythe', 'Hillsborough',\n",
       "       'West Hills', 'Imperial Beach', 'Encino', 'Costa Mesa',\n",
       "       'Riverside', 'Pleasanton', 'Poway', 'San Leandro', 'Los Banos',\n",
       "       'San Mateo', 'Spring Valley', 'Eastvale', 'San Lorenzo',\n",
       "       'Daly City', 'Irvine', 'Camarillo', 'Atascadero', 'Walnut Creek',\n",
       "       'Marina Del Rey', 'Moreno Valley', 'Rancho Cucamonga',\n",
       "       'Portola Valley', 'Newark', 'Palm Desert', 'San Carlos', 'Ojai',\n",
       "       'Oakley', 'Anaheim', 'Santa Monica', 'Helendale', 'Kelseyville',\n",
       "       'Oak Park', 'Santee', 'Sacramento', 'Foster City', 'Nipomo',\n",
       "       'Desert Hot Springs', 'El Cerrito', 'Jurupa Valley', 'Seal Beach',\n",
       "       'Woodside', 'Alamo', 'Campbell', 'Elk', 'Arroyo Grande',\n",
       "       'Sunnyvale', 'Pebble Beach', 'Richmond', 'Dublin', 'Van Nuys',\n",
       "       'Thermal', 'Escondido', 'Citrus Heights', 'Downey', 'Valencia',\n",
       "       'La Crescenta', 'Buena Park', 'La Puente', 'Fullerton',\n",
       "       'Ladera Ranch', 'Redlands', 'Rialto', 'Hesperia', 'Newbury Park',\n",
       "       'Toluca Lake', 'Corona', 'Ramona', 'Laguna Beach', 'Temple City',\n",
       "       'Concord', 'La Mesa', 'Apple Valley', 'Lomita', 'Anaheim Hills',\n",
       "       'La Palma', 'Pinole', 'Murrieta', 'Joshua Tree', 'Mission Viejo',\n",
       "       'San Gabriel', 'Chino', 'Scotts Valley', 'Carmel', 'Covina',\n",
       "       'Stockton', 'Vista', 'Westlake Village', 'San Bruno', 'Highland',\n",
       "       'Tustin', 'Fontana', 'Aliso Viejo', 'Beaumont', 'Monterey Park',\n",
       "       'Lakewood', 'Atwater', 'Burbank', 'Woodland', 'Thousand Oaks',\n",
       "       'Monterey', 'Arcadia', 'Rancho Santa Fe', 'Monrovia', 'Tujunga',\n",
       "       'Menifee', 'South San Francisco', 'Saugus', 'Lancaster', 'Upland',\n",
       "       'Diamond Bar', 'La Habra', 'Solana Beach', 'National City',\n",
       "       'Fountain Valley', 'La Jolla', 'Merced', 'Granada Hills', 'Reseda',\n",
       "       'Cypress', 'Los Osos', 'Watsonville', 'Pleasant Hill',\n",
       "       'Cathedral City', 'West Covina', 'Durham', 'Colton', nan,\n",
       "       'Brentwood', 'Montclair', 'Norco', 'Hollister', 'Sun Valley',\n",
       "       'Agoura Hills', 'Marina', 'Big Bear City', 'Bellflower', 'Azusa',\n",
       "       'Tulare', 'Norwalk', 'Glendora', 'Idyllwild', 'El Segundo',\n",
       "       'Cerritos', 'Lodi', 'Alpine', 'San Dimas', 'Tarzana',\n",
       "       'American Canyon', 'Chino Hills', 'Palmdale', 'Milpitas',\n",
       "       'Yucca Valley', 'Lemoore', 'Lemon Grove', 'Fresno', 'Duarte',\n",
       "       'Gardena', 'Rancho Mirage', 'Crestline', 'Borrego Springs',\n",
       "       'Santa Paula', 'Yucaipa', 'Canyon Lake', 'Adelanto', 'Winchester',\n",
       "       'Lafayette', 'Sunland', 'Calimesa', 'Los Alamitos', 'North Tustin',\n",
       "       'Winnetka', 'Big Bear', 'Lakeport', 'Altadena', 'Solvang',\n",
       "       'Chowchilla', 'Aguanga', 'Panorama City', 'Visalia', 'Fairfield',\n",
       "       'Garden Grove', 'Playa Del Rey', 'Pinon Hills', 'Phillips Ranch',\n",
       "       'La Mirada', 'Chico', 'Santa Maria', 'Lake Mathews', 'Pico Rivera',\n",
       "       'Valley Center', 'Grand Terrace', 'Laguna Niguel', 'Compton',\n",
       "       'Rodeo', 'Wildomar', 'Lakeside', 'Baldwin Park', 'Walnut',\n",
       "       'Inglewood', 'Manteca', 'Desert Center', 'Big Bear Lake', 'Pomona',\n",
       "       'San Pablo', 'Delano', 'Oakhurst', 'Ben Lomond', 'Guadalupe',\n",
       "       'Los Gatos', 'El Sobrante', 'Banning', 'Auburn', 'Grover Beach',\n",
       "       'Castroville', 'Pacific Beach (San Diego)', '29 Palms',\n",
       "       'Pine Mountain Club', 'Live Oak', 'Moorpark', 'Acton',\n",
       "       'Loma Linda', 'Willows', 'El Monte', 'Pacifica', 'Harbor City',\n",
       "       'Campo', 'Canoga Park', 'Port Hueneme', 'Modesto', 'Carpinteria',\n",
       "       'Sherwood Forest', 'Gustine', 'Palos Verdes Estates', 'Placentia',\n",
       "       'La Canada Flintridge', 'North Park (San Diego)',\n",
       "       'North Highlands', 'Lathrop', 'Vacaville', 'Littlerock', 'Lincoln',\n",
       "       'Twin Peaks', 'Commerce', 'Winton', 'Rosamond', 'South El Monte',\n",
       "       'Coachella', 'Soledad', 'Needles', 'Seaside', 'Kingsburg',\n",
       "       'Sylmar', 'Sutter Creek', 'Mentone', 'Ceres', 'Soquel',\n",
       "       'Montebello', 'Aptos', 'Lockeford', 'Topanga',\n",
       "       'Rancho Palos Verdes', 'Wilmington', 'Monte Sereno', 'Cressey',\n",
       "       'Signal Hill', 'Livingston', 'Mecca', 'Mountain House',\n",
       "       'Santa Rosa', 'Greenfield', 'Chatsworth', 'Millbrae',\n",
       "       'Rancho Mission Viejo', 'Paramount', 'Phelan', 'Boron', 'Rocklin',\n",
       "       'Alhambra', 'Clovis', 'San Rafael', 'Aromas', 'Bay Point',\n",
       "       'Del Mar', 'Albany', 'San Martin', 'Nice', 'Newhall', 'Brisbane',\n",
       "       'San Miguel', 'Sierra Madre', 'Coto de Caza', 'Nuevo',\n",
       "       'California City', 'Santa Fe Springs', 'Olivehurst', 'Culver City',\n",
       "       'Pacoima', 'Whitewater', 'Arleta', 'View Park', 'Butte City',\n",
       "       'Kensington', 'Bloomington', 'Albion', 'Madera', 'Felton',\n",
       "       'Pauma Valley', 'Templeton', 'Clearlake Oaks', 'Benicia',\n",
       "       'South Pasadena', 'Oceano', 'Patterson', 'Lucerne', 'Encanto',\n",
       "       'Fillmore', 'Corning', 'East Palo Alto', 'Lake Arrowhead',\n",
       "       'Jacumba', 'Quincy', 'Moraga', 'Hawthorne', 'Lompoc', 'Newman',\n",
       "       'South Gate', 'Morro Bay', 'Fort Bragg', 'Mendocino', 'Fawnskin',\n",
       "       'Castaic', 'San Fernando', 'Rosemead', 'King City', 'Menlo Park',\n",
       "       'Plumas Lake', 'Linda Vista', 'Hercules', 'San Ysidro',\n",
       "       'Oak Hills', 'Warner Springs', 'Willits', 'Ukiah', 'Tehachapi',\n",
       "       'Agua Dulce', 'Pacific Palisades', 'Santa Clarita', 'Elk Grove',\n",
       "       'Bonita', 'Pismo Beach', 'Clearlake', 'Granite Bay',\n",
       "       'Green Valley Lake', 'Wrightwood', 'Avery', 'Sugarloaf', 'Magalia',\n",
       "       'Rowland Heights', 'Villa Park', 'Lucerne Valley',\n",
       "       'Huntington Park', 'Cardiff By The Sea', 'Guatay',\n",
       "       'West Hollywood', 'El Granada', 'Cedar Glen', 'Gridley', 'Arnold',\n",
       "       'San Anselmo', 'Malibu', 'Mira Mesa', 'Lake Balboa', 'Atherton',\n",
       "       'Running Springs', 'Davis', 'Mojave', 'Blue Jay', 'Stanton',\n",
       "       'Rancho Cordova', 'Carmel Valley', 'Valley Glen', 'Bell Canyon',\n",
       "       'Springville', 'Sun City', 'Truckee', 'Edwards', 'Turlock',\n",
       "       'Santa Barbara', 'French Valley', 'Roseville', 'Little River',\n",
       "       'Bonsall', 'Suisun City', 'Shafter', 'Lamont', 'Rossmoor',\n",
       "       'Lynwood', 'Coarsegold', 'Weaverville', 'Bass Lake', 'Marysville',\n",
       "       'Jamul', 'City Terrace', 'Shoshone', 'Cambria', 'Valley Springs',\n",
       "       'Stevenson Ranch', 'Fowler', 'Porterville', 'Lake Elizabeth',\n",
       "       'Los Altos Hills', 'San Marino', 'Rio Vista', 'Taft',\n",
       "       'Palomar Mountain', 'Santa Ysabel', 'Arvin', 'Orland', 'Homeland',\n",
       "       'Folsom', 'Rancho Cascades', 'Groveland', 'Royal Oaks',\n",
       "       'Kings Beach', 'Mountain Center', 'Cherry Valley', 'Anza',\n",
       "       'Artesia', 'Linda', 'Maywood', 'Lake Hughes', 'Morongo Valley',\n",
       "       'Quartz Hill', 'El Sereno', 'Julian', 'Silverado Canyon',\n",
       "       'Trabuco Canyon', 'Lawndale', 'Loma Mar', 'Red Bluff', 'Stanford',\n",
       "       'Lakeview Terrace', 'San Juan Bautista', 'Wasco', 'Lake Isabella',\n",
       "       'Hidden Valley Lake', 'Clayton', 'New Cuyama', 'Ridgecrest',\n",
       "       'Piedmont', 'Lake Sherwood', 'Wofford Heights', 'La Selva Beach',\n",
       "       'La Honda', 'Leona Valley', 'Calipatria', 'Petaluma', 'Mariposa',\n",
       "       'Silverado', 'Rolling Hills Estates', 'Moss Beach',\n",
       "       'East Los Angeles', 'Frazier Park', 'Oak View', 'Thousand Palms',\n",
       "       'Summerland', 'Fair Oaks', 'Bel Air', 'Lake Los Angeles', 'Trona',\n",
       "       'Benton', 'Coalinga', 'Santa Margarita', 'Hollywood Hills',\n",
       "       'Arrowbear', 'Glenhaven', 'Herald', 'Bethel Island', 'Colma',\n",
       "       'Cayucos', 'Delhi', 'Caliente', 'Hanford', 'Cobb', 'Hermosa Beach',\n",
       "       'Forest Ranch', 'Three Rivers', 'Squaw Valley', 'Ladera Heights',\n",
       "       'Cromberg', 'Forest Falls', 'Flagstaff', 'Devore', 'Bradley',\n",
       "       'Chualar', 'Big Sur', 'Capitola', 'Oakdale', 'Montara', 'Yermo',\n",
       "       'Dos Palos', 'Bradbury', 'Laytonville', 'Foresthill',\n",
       "       'Half Moon Bay', 'Walnut Park', 'Paicines', 'Glenn', 'Sonora',\n",
       "       'North Fork', 'Palermo', 'Newberry Springs', 'Finley',\n",
       "       'Havasu City', 'Goleta', 'Playa Vista', 'Freedom',\n",
       "       'West Sacramento', 'El Dorado Hills', 'Imperial', 'Loch Lomond',\n",
       "       'Avalon', 'Descanso', 'Murphys', 'Rancho Bernardo (San Diego)',\n",
       "       'Orangevale', \"O'Neals\", 'Diablo', 'Selma', 'Mount Washington',\n",
       "       'Landers', 'Pine Valley', 'La Habra Heights', 'Redding',\n",
       "       'Mission Hills (San Fernando)', 'Cottonwood', 'Bell Gardens',\n",
       "       'Los Molinos', 'Avila Beach', 'Emeryville', 'Salida', 'Reedley',\n",
       "       'Alta Loma', 'Shandon', 'Antelope', 'Cudahy', 'Upper Lake',\n",
       "       'Keyes', 'Somis', 'Twain Harte', 'Potrero', 'Dixon', 'Amador City',\n",
       "       'Sutter', 'Sanger', 'Cedarpines Park', 'Oak Glen', 'Loma Rica',\n",
       "       'Wheatland', 'Irwindale', 'Raymond', 'Piru', 'Ahwahnee', 'Wawona',\n",
       "       'Cabazon', 'Lower Lake', 'Palos Verdes Peninsula', 'Novato',\n",
       "       'Pala', 'Tres Pinos', 'Wishon', 'Grass Valley', 'Surfside',\n",
       "       'Rancho Murieta', 'Eagle Rock', 'Shadow Hills', 'Montrose',\n",
       "       'Buellton', 'Big River', 'Butte Meadows', 'Rolling Hills',\n",
       "       'Mount Hermon', 'Bangor', 'Vina', 'Calexico', 'Port Costa',\n",
       "       'Jamestown', 'Mammoth Lakes', 'Cowan Heights', 'Inverness',\n",
       "       'Creston', 'Butte Valley', 'Unincorporated', 'Hawaiian Gardens',\n",
       "       'Montecito', 'Windsor', 'Green Valley', 'Corcoran', 'Cloverdale',\n",
       "       'Napa', 'University City', 'Sonoma', 'Gerber',\n",
       "       'Outside Area (Outside Ca)', 'Colusa', 'Los Alamos', 'Brawley',\n",
       "       'Snelling', 'Mount Shasta', 'Glen Ellen', 'East San Diego',\n",
       "       'Crockett', 'Hollywood', 'Val Verde', 'Woodlake', 'Logan Heights',\n",
       "       'Midway City', 'Hamilton City', 'Escalon', 'Artois', 'Byron',\n",
       "       'Santa Ynez', 'Bodfish', 'Rohnert Park', 'Isleton', 'Hughson',\n",
       "       'Sunset Beach', 'Highland Park', 'Firebaugh',\n",
       "       'Outside Area (Outside U.S.) Foreign Country', 'Paskenta',\n",
       "       'South Lake Tahoe', 'El Mirage', 'Browns Valley', 'Windsor Hills',\n",
       "       'Chester', 'Stonyford', 'Coulterville', 'Rainbow', 'Llano',\n",
       "       'Somerset', 'Silver Lake', 'Nevada City', 'Middletown',\n",
       "       'Ocean Beach (San Diego)', 'Pearblossom', 'Le Grand', 'Carmichael',\n",
       "       'Empire', 'Pacheco', 'Esparto', 'Point Loma', 'Waterford', 'Ripon',\n",
       "       'Kentfield', 'Holtville', 'Walnut Grove', 'Shasta Lake',\n",
       "       'Rancho Penasquitos', 'Westchester', 'West Toluca Lake',\n",
       "       'Farmersville', 'Riverbank', 'Vandenberg Village', 'Richvale',\n",
       "       'Biggs', 'Brentwood (CC)', 'French Camp', 'Brownsville',\n",
       "       'Cazadero', 'Exeter', 'Juniper Hills', 'Valyermo', 'Otay Mesa',\n",
       "       'Sunol', 'Planada', 'Mokelumne Hill', 'Rackerby', 'Dinuba',\n",
       "       'El Centro', 'Rimforest', 'Westwood - Century City', 'Fairfax',\n",
       "       'Smartsville', 'Lytle Creek', 'Comptche', 'Oro Grande',\n",
       "       'California Valley', 'Copperopolis', 'Angelus Oaks', 'Caruthers',\n",
       "       'Yreka', 'Moss Landing', 'Carmel-by-the-Sea', 'Lebec', 'Avenal',\n",
       "       'Mission Hills', 'Pioneer', 'Temescal Valley', 'Modjeska Canyon',\n",
       "       'Kennedy Meadows', 'Gonzales', 'Denair', 'Hilmar', 'Romoland',\n",
       "       'Mt Baldy', 'Bear Valley Springs', 'Friant', 'Carnelian Bay',\n",
       "       'Kerman', 'Bombay Beach', 'Corte Madera', 'Cameron Park',\n",
       "       'Gualala', 'Westwood', 'Ortega Mountain', 'Sky Valley',\n",
       "       'Reseda Ranch', 'Lincoln Heights', 'Manton', 'Scripps Miramar',\n",
       "       'Sausalito', 'Pollock Pines', 'Prather', 'Anderson', 'Riverdale',\n",
       "       'Manchester', 'Shaver Lake', 'Midpines', 'Weed',\n",
       "       'Mountain Home Village', 'Oregon House', 'Fish Camp',\n",
       "       'Angels Camp', 'Woodcrest', 'Ranchita', 'Forestville', 'Prunedale',\n",
       "       'Placerville', 'Del Cerro', 'Mount Laguna', 'Catheys Valley',\n",
       "       'Corralitos', 'Linden', 'Wilton', 'Hornbrook', 'Challenge',\n",
       "       'Maxwell', 'San Andreas', 'West Point', 'Other', 'Portola',\n",
       "       'Knightsen', 'Pescadero', 'Mountain Ranch', 'Nuevo/Lakeview',\n",
       "       'Weldon', 'Mar Vista', 'Boulevard', 'Trinity Center', 'Lockwood',\n",
       "       'Douglas City', 'Berry Creek', 'Nord', 'Glennville', 'Mill Valley',\n",
       "       'Del Rey Oaks', 'Daggett', 'Orcutt', 'Rough and Ready',\n",
       "       'Shingletown', 'Red Mountain', 'Johnson Valley', 'Newcastle',\n",
       "       'Calistoga', 'Long Barn', 'Johannesburg', 'Montague', 'Pine Cove',\n",
       "       'Janesville', 'Dulzura', 'La Grange', 'Diamond Springs',\n",
       "       'Millville', 'Dunnigan', 'Stevinson', 'Greenville',\n",
       "       'Lake Almanor West', 'Bishop', 'Galt', 'Greenbrae', 'Kernville',\n",
       "       'St Helena', 'Eureka', 'Clairemont Mesa', 'Echo Park', 'Maricopa',\n",
       "       'Yountville', 'Greenwood', 'Fort Jones', 'Lewiston', 'Sage',\n",
       "       'Penn Valley', 'Twentynine Palms', 'Yosemite', 'Guerneville',\n",
       "       'Auberry', 'Redwood Valley', 'Winterhaven'], dtype=object)"
      ]
     },
     "execution_count": 28,
     "metadata": {},
     "output_type": "execute_result"
    }
   ],
   "source": [
    "df.City.unique()"
   ]
  },
  {
   "cell_type": "code",
   "execution_count": 29,
   "metadata": {},
   "outputs": [
    {
     "data": {
      "text/plain": [
       "array([ 0.,  1.,  2.,  3.,  4.,  5.,  6.,  7.,  8.,  9., 10., 11., 12.,\n",
       "       13., 14., 15., 16., 17., 18., 20., 21., 22., 25., 27., 31., 35.,\n",
       "       45., nan])"
      ]
     },
     "execution_count": 29,
     "metadata": {},
     "output_type": "execute_result"
    }
   ],
   "source": [
    "np.unique(df['BathroomsTotalInteger'])"
   ]
  },
  {
   "cell_type": "code",
   "execution_count": 30,
   "metadata": {},
   "outputs": [
    {
     "data": {
      "text/plain": [
       "array(['AZ', 'CA', 'CO', 'FL', 'OS', 'TN'], dtype=object)"
      ]
     },
     "execution_count": 30,
     "metadata": {},
     "output_type": "execute_result"
    }
   ],
   "source": [
    "np.unique(df['StateOrProvince'])"
   ]
  },
  {
   "cell_type": "code",
   "execution_count": 31,
   "metadata": {},
   "outputs": [
    {
     "data": {
      "text/plain": [
       "array([ 1.,  2., nan])"
      ]
     },
     "execution_count": 31,
     "metadata": {},
     "output_type": "execute_result"
    }
   ],
   "source": [
    "np.unique(df['Stories'])"
   ]
  },
  {
   "cell_type": "code",
   "execution_count": 32,
   "metadata": {},
   "outputs": [
    {
     "data": {
      "text/plain": [
       "array([nan, 'Other', 'Los Angeles Unified', 'San Luis Coastal Unified',\n",
       "       'Saddleback Valley Unified', 'Brea-Olinda Unified',\n",
       "       'Needles Unified School District', 'Garden Grove Unified',\n",
       "       'Claremont Unified', 'San Jose Unified', 'Newport Mesa Unified',\n",
       "       'Bonita Unified', 'Manhattan Unified', 'Paso Robles Joint Unified',\n",
       "       'Long Beach Unified', 'Temecula Unified', 'Orange Unified',\n",
       "       'Glendale Unified', 'Huntington Beach Union High',\n",
       "       'Desert Sands Unified', 'Torrance Unified',\n",
       "       'William S. Hart Union', 'Simi Valley Unified',\n",
       "       'Perris Union High', 'Capistrano Unified', 'San Francisco Unified',\n",
       "       'Ontario-Montclair', 'ABC Unified', 'Lake Elsinore Unified',\n",
       "       'Victor Valley Unified', 'Paradise Unified', 'San Diego Unified',\n",
       "       'Yuba City Unified', 'Cajon Valley Union',\n",
       "       'Hacienda La Puente Unified', 'San Jacinto Unified',\n",
       "       'Hemet Unified', 'San Dieguito Union', 'Oroville City',\n",
       "       'Westminster Unified', 'Palo Alto Unified', 'Las Virgenes',\n",
       "       'Gilroy Unified', 'Kern Union', 'Oceanside Unified',\n",
       "       'Whittier Union High', 'Carlsbad Unified', 'San Marcos Unified',\n",
       "       'Beverly Hills Unified', 'Bakersfield City', 'Templeton Unified',\n",
       "       'Morongo Unified', 'Fallbrook Union',\n",
       "       'San Bernardino City Unified', 'Placentia-Yorba Linda Unified',\n",
       "       'Barstow Unified', 'Sweetwater Union', 'Riverside Unified',\n",
       "       'Poway Unified', 'Los Banos Unified', 'Corona-Norco Unified',\n",
       "       'Coachella Valley Unified', 'Irvine Unified', 'Atascadero Unified',\n",
       "       'Oakland', 'Moreno Valley Unified', 'Chaffey Joint Union High',\n",
       "       'Anaheim Union High', 'Konocti Unified', 'Alvord Unified',\n",
       "       'Redondo Unified', 'Santee', 'Lucia Mar Unified', 'Jurupa Unified',\n",
       "       'Los Alamitos Unified', 'La Mesa-Spring Valley', 'Pleasanton',\n",
       "       'Escondido Union', 'Sacramento City Unified', 'Grossmont Union',\n",
       "       'Downey Unified', 'New Haven', 'Fullerton Joint Union High',\n",
       "       'San Ramon Valley', 'Redlands Unified', 'Rialto Unified',\n",
       "       'Hesperia Unified', 'Conejo Valley Unified',\n",
       "       'Laguna Beach Unified', 'Temple City Unified',\n",
       "       'Apple Valley Unified', 'Hayward', 'Alta Loma', 'Pasadena Unified',\n",
       "       'Chino Valley Unified', 'Carmel Unified', 'Covina Valley Unified',\n",
       "       'Vista Unified', 'Fontana Unified', 'Beaumont', 'Tustin Unified',\n",
       "       'Alhambra', 'Martinez', 'See Remarks', 'Atwater',\n",
       "       'Burbank Unified', 'Arcadia Unified', 'Monrovia Unified',\n",
       "       'Call Listing Office', 'South San Francisco Unified',\n",
       "       'Willows Unified', 'Lancaster', 'Upland', 'Pomona Unified',\n",
       "       'Fountain Valley', 'Menifee Union', 'Merced City',\n",
       "       'Victor Valley Union High', 'Cypress School District',\n",
       "       'West Covina', 'Durham Unified', 'Central', 'Colton Unified',\n",
       "       'Ramona Unified', 'Murrieta', 'Palm Springs Unified',\n",
       "       'Santa Ana Unified', 'Antelope Valley Union',\n",
       "       'Bear Valley Unified', 'Bellflower Unified', 'Azusa Unified',\n",
       "       'Tulare Joint Union', 'Norwalk - La Mirada', 'El Segundo Unified',\n",
       "       'Glendora Unified', 'North Monterey County Unified',\n",
       "       'Napa Valley Unified', 'Ventura Unified', 'South Bay Union',\n",
       "       'Lemoore Union', 'Coronado Unified', 'Lemon Grove',\n",
       "       'Clovis Unified', 'Duarte Unified', 'Chula Vista Elementary',\n",
       "       'Antioch', 'Rim of the World', 'Borrego Springs Unified',\n",
       "       'Yucaipa/Calimesa Unified', 'Livermore Valley', 'Etiwanda',\n",
       "       'Adelanto', 'Acalanes', 'Lakeport Unified', 'Chowchilla Union',\n",
       "       'El Monte Union High', 'San Gabriel Unified', 'Visalia Unified',\n",
       "       'Snowline Joint Unified', 'Chico Unified', 'El Rancho Unified',\n",
       "       'Valley Center - Pauma', 'Walnut Valley Unified',\n",
       "       'Compton Unified', 'West Contra Costa', 'Baldwin Park Unified',\n",
       "       'East Whittier Unified', 'Inglewood Unified', 'Delano Joint Union',\n",
       "       'Yosemite Unified', 'San Leandro', 'Santa Maria Joint Union',\n",
       "       'Fremont Unified', 'Merced Union', 'Yucca Valley',\n",
       "       'El Tejon Unified', 'Live Oak Unified', 'Santa Maria-Bonita',\n",
       "       'Oxnard Union', 'Modesto City', 'Alameda City Unified',\n",
       "       'Pleasant Valley', 'Gustine Unified', 'San Dimas',\n",
       "       'Palos Verdes Peninsula Unified', 'Manteca Unified',\n",
       "       'Charter Oak Unified', 'Winton', 'San Lorenzo',\n",
       "       'Kingsburg Joint Union', 'Palmdale', 'Mount Diablo',\n",
       "       'Stanislaus Union', 'Montebello Unified', 'Castro Valley',\n",
       "       'Tracy Joint Unified', 'Encinitas Union', 'Fresno Unified',\n",
       "       'Santa Monica-Malibu Unified', 'Val Verde', 'Paramount Unified',\n",
       "       'Bonsall Unified', 'Oak Park Unified', 'Acton-Agua Dulce Unified',\n",
       "       'Standard', 'Cucamonga', 'La Canada Unified', 'Lakeside Union',\n",
       "       'Albany', 'Upper Lake Union', 'Jefferson',\n",
       "       'Riverdale Joint Unified', 'Carpinteria Unified',\n",
       "       'Culver City Unified', 'Princeton Joint Unified', 'Newark',\n",
       "       'Madera Unified', 'Moorpark Unified', 'Patterson Joint Unified',\n",
       "       'La Jolla', 'East Side Union', 'Kelseyville Unified',\n",
       "       'Corning Union', 'Golden Valley Unified', 'Central Unified',\n",
       "       'Plumas Unified', 'Banning Unified', 'Hawthorne', 'Lompoc Unified',\n",
       "       'Mojave Unified', 'Newman-Crows Landing Unified', 'Oroville Union',\n",
       "       'Mountain Empire Unified', 'South Whittier Unified',\n",
       "       'Rowland Unified', 'Rosemead', 'King City Joint Union',\n",
       "       'Wheatland Unified', 'San Ysidro', 'Outside Creek',\n",
       "       'Warner Unified', 'Willits Unified', 'Ukiah Unified',\n",
       "       'Morgan Hill Unified', 'Riverbank Unified', 'Del Mar Union',\n",
       "       'Lucerne Valley Unified', 'Bass Lake Joint Union', 'Cardiff',\n",
       "       'Gridley Unified', 'Orcutt Union', 'Lowell Joint Unified',\n",
       "       'Romoland', 'Lake', 'Santa Clara Unified', 'Davis Joint Unified',\n",
       "       'Nuview Union', 'John Swett', 'Turlock Unified', 'Sanger Unified',\n",
       "       'Westside Union', 'Lodi Unified', 'Lynwood Unified',\n",
       "       'Marysville Joint Unified', 'Jamul-Dulzara Union',\n",
       "       'Fowler Unified', 'Porterville Unified', 'San Marino Unified',\n",
       "       'Taft Union', 'Weaver Union', 'Orland Joint Unified',\n",
       "       'Ojai Unified', 'Fillmore Unified', 'Mountain View',\n",
       "       'Vallejo City Unified', 'South Pasadena', 'Pittsburg',\n",
       "       'Bassett Unified', 'Sierra Unified', 'Wiseburn Unified',\n",
       "       'Piedmont', 'Lawndale', 'Red Bluff Joint Union',\n",
       "       'Middletown Unified', 'Cuyama Joint Unified',\n",
       "       'Sierra Sands Unified', 'Caliente Union',\n",
       "       'Mariposa County Unified', 'Coalinga-Huron Joint Unified',\n",
       "       'Dublin', 'Livingston Union', 'Del Norte County Unified',\n",
       "       'Coast Unified', 'Delhi Unified', 'Big Oak Flat-Groveland Unified',\n",
       "       'Hanford Joint Union', 'Hermosa', 'Santa Paula',\n",
       "       'Kings Canyon Joint Unified', 'Palo Verde Unified',\n",
       "       'Placerville Union', 'Walnut Creek', 'Hamilton Union',\n",
       "       'Centeniela Valley Union High', 'Lucerne', 'Moraga',\n",
       "       'Pioneer Union', 'Washington Union', 'Lafayette', 'El Centro',\n",
       "       'Berkeley', 'Elk Grove Unified', 'Oak Grove', 'Bend',\n",
       "       'Palos Verdes / LAUSD – inquire', \"O'Neals\", 'Selma Unified',\n",
       "       'American Union', 'Kerman Unified', 'Oakley',\n",
       "       'Los Molinos Unified', 'Los Nietos Unified', 'Emery Unified',\n",
       "       'Dehesa', 'El Dorado Union', 'Stanton Unified',\n",
       "       'Shandon Joint Unified', 'Julian High School', 'San Pasqual Union',\n",
       "       'Thermalito Union', 'Fallbrook Union Elementary', 'Sutter Union',\n",
       "       'Raymond-Knowles Union', 'San Miguel Joint Union',\n",
       "       'Corcoran Joint Unified', 'Chawanakee Unified',\n",
       "       'Somis Union Elementary School', 'Roseville Joint Union High',\n",
       "       'McSwain Union', 'Byron', 'Bangor Union', 'Desert Center Unified',\n",
       "       'Creston', 'Shasta Union', 'Alpine Union', 'San Mateo Union High',\n",
       "       'Sulphur Springs Union', 'Sonoma Valley Unified', 'Westwood',\n",
       "       'Orinda', 'Wilsona', 'Snelling-Merced Falls Union',\n",
       "       'More Than 1 District - Call L/O', 'Hollister',\n",
       "       'Fairfield-Suisun School District', 'Tuolumne', 'Dinuba Unified',\n",
       "       'Sonora Union', 'Golden Plains Unified', 'Solana Beach',\n",
       "       'Hilmar Unified', 'Kernville Union', 'National', 'Santa Rosa',\n",
       "       'Palermo Union', 'Flournoy Union', 'Oakdale Joint Unified',\n",
       "       'Sun City Unified', 'Stony Creek Joint Unified', 'Denair Unified',\n",
       "       'Orange Center', 'Le Grand Union',\n",
       "       'Firebaugh-Las Deltas Joint Unified', 'Farmersville Unified',\n",
       "       'Biggs Unified', 'Exeter Union', 'Hueneme Elementary',\n",
       "       'Keppel Union Elementary', 'Maricopa Unified', 'Ballico-Cressey',\n",
       "       'Eureka City Unified', 'Vallecitos', 'Caruthers Unified',\n",
       "       'Yreka Union', 'Jefferson Union',\n",
       "       'Dos Palos Oro Loma Joint Unified', 'Rancho Santa Fe',\n",
       "       'Evergreen Union', 'Seal Beach Unified', 'Calaveras Unified',\n",
       "       'Bret Harte Union', 'Manton Joint Unified', 'Round Valley Unified',\n",
       "       'Tamalpais Union', 'Mendocino Unified', 'Mendota Unified',\n",
       "       'Ceres Unified', 'North Fork', 'Golden Feather Union',\n",
       "       'Julian Union', 'Lindsay Unified', 'Calistoga Joint Unified',\n",
       "       'Knightsen', 'Springville Union', 'Plum Valley', 'Parlier Unified',\n",
       "       'Lassen View Union', 'Franklin', 'La Grange', 'Wise',\n",
       "       'Washington Colony', 'Black Oak Mine Unified'], dtype=object)"
      ]
     },
     "execution_count": 32,
     "metadata": {},
     "output_type": "execute_result"
    }
   ],
   "source": [
    "df['HighSchoolDistrict'].unique()"
   ]
  },
  {
   "cell_type": "code",
   "execution_count": 33,
   "metadata": {},
   "outputs": [
    {
     "data": {
      "text/plain": [
       "array([  0.  ,   1.  ,   1.5 ,   2.  ,   2.25,   2.5 ,   3.  ,   3.5 ,\n",
       "         4.  ,   4.5 ,   5.  ,   5.5 ,   6.  ,   7.  ,   8.  ,   9.  ,\n",
       "        10.  ,  11.  ,  12.  ,  13.  ,  14.  ,  15.  ,  16.  ,  17.  ,\n",
       "        18.  ,  19.  ,  20.  ,  22.  ,  23.  ,  24.  ,  40.  , 400.  ,\n",
       "       500.  ,    nan])"
      ]
     },
     "execution_count": 33,
     "metadata": {},
     "output_type": "execute_result"
    }
   ],
   "source": [
    "np.unique(df['GarageSpaces'])"
   ]
  },
  {
   "cell_type": "markdown",
   "metadata": {},
   "source": [
    "### Numerical & Categorical"
   ]
  },
  {
   "cell_type": "code",
   "execution_count": 19,
   "metadata": {},
   "outputs": [
    {
     "data": {
      "text/plain": [
       "['ClosePrice',\n",
       " 'Latitude',\n",
       " 'Longitude',\n",
       " 'LivingArea',\n",
       " 'ParkingTotal',\n",
       " 'LotSizeAcres',\n",
       " 'YearBuilt',\n",
       " 'StreetNumberNumeric',\n",
       " 'BathroomsTotalInteger',\n",
       " 'BedroomsTotal',\n",
       " 'Stories',\n",
       " 'LotSizeArea',\n",
       " 'MainLevelBedrooms',\n",
       " 'GarageSpaces',\n",
       " 'AssociationFee',\n",
       " 'LotSizeSquareFeet']"
      ]
     },
     "execution_count": 19,
     "metadata": {},
     "output_type": "execute_result"
    }
   ],
   "source": [
    "num_cols = df.select_dtypes(include=['int64', 'float64']).columns.tolist()\n",
    "num_cols"
   ]
  },
  {
   "cell_type": "code",
   "execution_count": 33,
   "metadata": {},
   "outputs": [],
   "source": [
    "df[\"CloseDate\"] = pd.to_datetime(df[\"CloseDate\"], errors=\"coerce\")"
   ]
  },
  {
   "cell_type": "markdown",
   "metadata": {},
   "source": [
    "### Plots & Visualizations"
   ]
  },
  {
   "cell_type": "code",
   "execution_count": 21,
   "metadata": {},
   "outputs": [
    {
     "data": {
      "image/png": "[encoded data removed]",
      "text/plain": [
       "<Figure size 1200x800 with 2 Axes>"
      ]
     },
     "metadata": {},
     "output_type": "display_data"
    }
   ],
   "source": [
    "# heatmap\n",
    "corr = df[num_cols].corr()\n",
    "plt.figure(figsize=(12, 8))\n",
    "sns.heatmap(corr, cmap=\"coolwarm\", center=0, annot=False)\n",
    "plt.title(\"Correlation Matrix of Numeric Features\")\n",
    "plt.show()"
   ]
  },
  {
   "cell_type": "code",
   "execution_count": 22,
   "metadata": {},
   "outputs": [
    {
     "data": {
      "text/plain": [
       "ClosePrice               1.000000\n",
       "LivingArea               0.182983\n",
       "BathroomsTotalInteger    0.159880\n",
       "BedroomsTotal            0.103992\n",
       "AssociationFee           0.054325\n",
       "Stories                  0.042235\n",
       "LotSizeArea              0.034002\n",
       "GarageSpaces             0.015858\n",
       "YearBuilt                0.006580\n",
       "LotSizeSquareFeet        0.002709\n",
       "ParkingTotal             0.000961\n",
       "LotSizeAcres             0.000441\n",
       "Latitude                -0.004750\n",
       "StreetNumberNumeric     -0.006096\n",
       "MainLevelBedrooms       -0.011846\n",
       "Longitude               -0.015226\n",
       "Name: ClosePrice, dtype: float64"
      ]
     },
     "execution_count": 22,
     "metadata": {},
     "output_type": "execute_result"
    }
   ],
   "source": [
    "corr['ClosePrice'].sort_values(ascending=False)"
   ]
  },
  {
   "cell_type": "code",
   "execution_count": 30,
   "metadata": {},
   "outputs": [
    {
     "data": {
      "image/png": "[encoded data removed]",
      "text/plain": [
       "<Figure size 800x600 with 1 Axes>"
      ]
     },
     "metadata": {},
     "output_type": "display_data"
    }
   ],
   "source": [
    "target_corr = corr['ClosePrice'].drop('ClosePrice').sort_values()\n",
    "target_corr.plot(kind='barh', figsize=(8,6), title='Feature Correlation with ClosePrice')\n",
    "plt.show()"
   ]
  },
  {
   "cell_type": "code",
   "execution_count": 32,
   "metadata": {},
   "outputs": [
    {
     "ename": "ValueError",
     "evalue": "cannot reindex on an axis with duplicate labels",
     "output_type": "error",
     "traceback": [
      "\u001b[0;31m---------------------------------------------------------------------------\u001b[0m",
      "\u001b[0;31mValueError\u001b[0m                                Traceback (most recent call last)",
      "Cell \u001b[0;32mIn[32], line 2\u001b[0m\n\u001b[1;32m      1\u001b[0m top_vars \u001b[38;5;241m=\u001b[39m [\u001b[38;5;124m'\u001b[39m\u001b[38;5;124mClosePrice\u001b[39m\u001b[38;5;124m'\u001b[39m, \u001b[38;5;124m'\u001b[39m\u001b[38;5;124mLivingArea\u001b[39m\u001b[38;5;124m'\u001b[39m, \u001b[38;5;124m'\u001b[39m\u001b[38;5;124mBathroomsTotalInteger\u001b[39m\u001b[38;5;124m'\u001b[39m, \u001b[38;5;124m'\u001b[39m\u001b[38;5;124mBedroomsTotal\u001b[39m\u001b[38;5;124m'\u001b[39m, \u001b[38;5;124m'\u001b[39m\u001b[38;5;124mAssociationFee\u001b[39m\u001b[38;5;124m'\u001b[39m]\n\u001b[0;32m----> 2\u001b[0m sns\u001b[38;5;241m.\u001b[39mpairplot(df[top_vars]\u001b[38;5;241m.\u001b[39msample(\u001b[38;5;241m300\u001b[39m))\n",
      "File \u001b[0;32m/opt/anaconda3/lib/python3.12/site-packages/seaborn/axisgrid.py:2149\u001b[0m, in \u001b[0;36mpairplot\u001b[0;34m(data, hue, hue_order, palette, vars, x_vars, y_vars, kind, diag_kind, markers, height, aspect, corner, dropna, plot_kws, diag_kws, grid_kws, size)\u001b[0m\n\u001b[1;32m   2147\u001b[0m diag_kws\u001b[38;5;241m.\u001b[39msetdefault(\u001b[38;5;124m\"\u001b[39m\u001b[38;5;124mlegend\u001b[39m\u001b[38;5;124m\"\u001b[39m, \u001b[38;5;28;01mFalse\u001b[39;00m)\n\u001b[1;32m   2148\u001b[0m \u001b[38;5;28;01mif\u001b[39;00m diag_kind \u001b[38;5;241m==\u001b[39m \u001b[38;5;124m\"\u001b[39m\u001b[38;5;124mhist\u001b[39m\u001b[38;5;124m\"\u001b[39m:\n\u001b[0;32m-> 2149\u001b[0m     grid\u001b[38;5;241m.\u001b[39mmap_diag(histplot, \u001b[38;5;241m*\u001b[39m\u001b[38;5;241m*\u001b[39mdiag_kws)\n\u001b[1;32m   2150\u001b[0m \u001b[38;5;28;01melif\u001b[39;00m diag_kind \u001b[38;5;241m==\u001b[39m \u001b[38;5;124m\"\u001b[39m\u001b[38;5;124mkde\u001b[39m\u001b[38;5;124m\"\u001b[39m:\n\u001b[1;32m   2151\u001b[0m     diag_kws\u001b[38;5;241m.\u001b[39msetdefault(\u001b[38;5;124m\"\u001b[39m\u001b[38;5;124mfill\u001b[39m\u001b[38;5;124m\"\u001b[39m, \u001b[38;5;28;01mTrue\u001b[39;00m)\n",
      "File \u001b[0;32m/opt/anaconda3/lib/python3.12/site-packages/seaborn/axisgrid.py:1513\u001b[0m, in \u001b[0;36mPairGrid.map_diag\u001b[0;34m(self, func, **kwargs)\u001b[0m\n\u001b[1;32m   1511\u001b[0m     plot_kwargs\u001b[38;5;241m.\u001b[39msetdefault(\u001b[38;5;124m\"\u001b[39m\u001b[38;5;124mhue_order\u001b[39m\u001b[38;5;124m\"\u001b[39m, \u001b[38;5;28mself\u001b[39m\u001b[38;5;241m.\u001b[39m_hue_order)\n\u001b[1;32m   1512\u001b[0m     plot_kwargs\u001b[38;5;241m.\u001b[39msetdefault(\u001b[38;5;124m\"\u001b[39m\u001b[38;5;124mpalette\u001b[39m\u001b[38;5;124m\"\u001b[39m, \u001b[38;5;28mself\u001b[39m\u001b[38;5;241m.\u001b[39m_orig_palette)\n\u001b[0;32m-> 1513\u001b[0m     func(x\u001b[38;5;241m=\u001b[39mvector, \u001b[38;5;241m*\u001b[39m\u001b[38;5;241m*\u001b[39mplot_kwargs)\n\u001b[1;32m   1514\u001b[0m     ax\u001b[38;5;241m.\u001b[39mlegend_ \u001b[38;5;241m=\u001b[39m \u001b[38;5;28;01mNone\u001b[39;00m\n\u001b[1;32m   1516\u001b[0m \u001b[38;5;28mself\u001b[39m\u001b[38;5;241m.\u001b[39m_add_axis_labels()\n",
      "File \u001b[0;32m/opt/anaconda3/lib/python3.12/site-packages/seaborn/distributions.py:1416\u001b[0m, in \u001b[0;36mhistplot\u001b[0;34m(data, x, y, hue, weights, stat, bins, binwidth, binrange, discrete, cumulative, common_bins, common_norm, multiple, element, fill, shrink, kde, kde_kws, line_kws, thresh, pthresh, pmax, cbar, cbar_ax, cbar_kws, palette, hue_order, hue_norm, color, log_scale, legend, ax, **kwargs)\u001b[0m\n\u001b[1;32m   1405\u001b[0m estimate_kws \u001b[38;5;241m=\u001b[39m \u001b[38;5;28mdict\u001b[39m(\n\u001b[1;32m   1406\u001b[0m     stat\u001b[38;5;241m=\u001b[39mstat,\n\u001b[1;32m   1407\u001b[0m     bins\u001b[38;5;241m=\u001b[39mbins,\n\u001b[0;32m   (...)\u001b[0m\n\u001b[1;32m   1411\u001b[0m     cumulative\u001b[38;5;241m=\u001b[39mcumulative,\n\u001b[1;32m   1412\u001b[0m )\n\u001b[1;32m   1414\u001b[0m \u001b[38;5;28;01mif\u001b[39;00m p\u001b[38;5;241m.\u001b[39munivariate:\n\u001b[0;32m-> 1416\u001b[0m     p\u001b[38;5;241m.\u001b[39mplot_univariate_histogram(\n\u001b[1;32m   1417\u001b[0m         multiple\u001b[38;5;241m=\u001b[39mmultiple,\n\u001b[1;32m   1418\u001b[0m         element\u001b[38;5;241m=\u001b[39melement,\n\u001b[1;32m   1419\u001b[0m         fill\u001b[38;5;241m=\u001b[39mfill,\n\u001b[1;32m   1420\u001b[0m         shrink\u001b[38;5;241m=\u001b[39mshrink,\n\u001b[1;32m   1421\u001b[0m         common_norm\u001b[38;5;241m=\u001b[39mcommon_norm,\n\u001b[1;32m   1422\u001b[0m         common_bins\u001b[38;5;241m=\u001b[39mcommon_bins,\n\u001b[1;32m   1423\u001b[0m         kde\u001b[38;5;241m=\u001b[39mkde,\n\u001b[1;32m   1424\u001b[0m         kde_kws\u001b[38;5;241m=\u001b[39mkde_kws,\n\u001b[1;32m   1425\u001b[0m         color\u001b[38;5;241m=\u001b[39mcolor,\n\u001b[1;32m   1426\u001b[0m         legend\u001b[38;5;241m=\u001b[39mlegend,\n\u001b[1;32m   1427\u001b[0m         estimate_kws\u001b[38;5;241m=\u001b[39mestimate_kws,\n\u001b[1;32m   1428\u001b[0m         line_kws\u001b[38;5;241m=\u001b[39mline_kws,\n\u001b[1;32m   1429\u001b[0m         \u001b[38;5;241m*\u001b[39m\u001b[38;5;241m*\u001b[39mkwargs,\n\u001b[1;32m   1430\u001b[0m     )\n\u001b[1;32m   1432\u001b[0m \u001b[38;5;28;01melse\u001b[39;00m:\n\u001b[1;32m   1434\u001b[0m     p\u001b[38;5;241m.\u001b[39mplot_bivariate_histogram(\n\u001b[1;32m   1435\u001b[0m         common_bins\u001b[38;5;241m=\u001b[39mcommon_bins,\n\u001b[1;32m   1436\u001b[0m         common_norm\u001b[38;5;241m=\u001b[39mcommon_norm,\n\u001b[0;32m   (...)\u001b[0m\n\u001b[1;32m   1446\u001b[0m         \u001b[38;5;241m*\u001b[39m\u001b[38;5;241m*\u001b[39mkwargs,\n\u001b[1;32m   1447\u001b[0m     )\n",
      "File \u001b[0;32m/opt/anaconda3/lib/python3.12/site-packages/seaborn/distributions.py:427\u001b[0m, in \u001b[0;36m_DistributionPlotter.plot_univariate_histogram\u001b[0;34m(self, multiple, element, fill, common_norm, common_bins, shrink, kde, kde_kws, color, legend, line_kws, estimate_kws, **plot_kws)\u001b[0m\n\u001b[1;32m    424\u001b[0m histograms \u001b[38;5;241m=\u001b[39m {}\n\u001b[1;32m    426\u001b[0m \u001b[38;5;66;03m# Do pre-compute housekeeping related to multiple groups\u001b[39;00m\n\u001b[0;32m--> 427\u001b[0m all_data \u001b[38;5;241m=\u001b[39m \u001b[38;5;28mself\u001b[39m\u001b[38;5;241m.\u001b[39mcomp_data\u001b[38;5;241m.\u001b[39mdropna()\n\u001b[1;32m    428\u001b[0m all_weights \u001b[38;5;241m=\u001b[39m all_data\u001b[38;5;241m.\u001b[39mget(\u001b[38;5;124m\"\u001b[39m\u001b[38;5;124mweights\u001b[39m\u001b[38;5;124m\"\u001b[39m, \u001b[38;5;28;01mNone\u001b[39;00m)\n\u001b[1;32m    430\u001b[0m multiple_histograms \u001b[38;5;241m=\u001b[39m \u001b[38;5;28mset\u001b[39m(\u001b[38;5;28mself\u001b[39m\u001b[38;5;241m.\u001b[39mvariables) \u001b[38;5;241m-\u001b[39m {\u001b[38;5;124m\"\u001b[39m\u001b[38;5;124mx\u001b[39m\u001b[38;5;124m\"\u001b[39m, \u001b[38;5;124m\"\u001b[39m\u001b[38;5;124my\u001b[39m\u001b[38;5;124m\"\u001b[39m}\n",
      "File \u001b[0;32m/opt/anaconda3/lib/python3.12/site-packages/seaborn/_base.py:1007\u001b[0m, in \u001b[0;36mVectorPlotter.comp_data\u001b[0;34m(self)\u001b[0m\n\u001b[1;32m   1005\u001b[0m         \u001b[38;5;28;01melse\u001b[39;00m:\n\u001b[1;32m   1006\u001b[0m             comp_col \u001b[38;5;241m=\u001b[39m pd\u001b[38;5;241m.\u001b[39mSeries(dtype\u001b[38;5;241m=\u001b[39m\u001b[38;5;28mfloat\u001b[39m, name\u001b[38;5;241m=\u001b[39mvar)\n\u001b[0;32m-> 1007\u001b[0m         comp_data\u001b[38;5;241m.\u001b[39minsert(\u001b[38;5;241m0\u001b[39m, var, comp_col)\n\u001b[1;32m   1009\u001b[0m     \u001b[38;5;28mself\u001b[39m\u001b[38;5;241m.\u001b[39m_comp_data \u001b[38;5;241m=\u001b[39m comp_data\n\u001b[1;32m   1011\u001b[0m \u001b[38;5;28;01mreturn\u001b[39;00m \u001b[38;5;28mself\u001b[39m\u001b[38;5;241m.\u001b[39m_comp_data\n",
      "File \u001b[0;32m/opt/anaconda3/lib/python3.12/site-packages/pandas/core/frame.py:5171\u001b[0m, in \u001b[0;36mDataFrame.insert\u001b[0;34m(self, loc, column, value, allow_duplicates)\u001b[0m\n\u001b[1;32m   5168\u001b[0m \u001b[38;5;28;01melif\u001b[39;00m \u001b[38;5;28misinstance\u001b[39m(value, DataFrame):\n\u001b[1;32m   5169\u001b[0m     value \u001b[38;5;241m=\u001b[39m value\u001b[38;5;241m.\u001b[39miloc[:, \u001b[38;5;241m0\u001b[39m]\n\u001b[0;32m-> 5171\u001b[0m value, refs \u001b[38;5;241m=\u001b[39m \u001b[38;5;28mself\u001b[39m\u001b[38;5;241m.\u001b[39m_sanitize_column(value)\n\u001b[1;32m   5172\u001b[0m \u001b[38;5;28mself\u001b[39m\u001b[38;5;241m.\u001b[39m_mgr\u001b[38;5;241m.\u001b[39minsert(loc, column, value, refs\u001b[38;5;241m=\u001b[39mrefs)\n",
      "File \u001b[0;32m/opt/anaconda3/lib/python3.12/site-packages/pandas/core/frame.py:5263\u001b[0m, in \u001b[0;36mDataFrame._sanitize_column\u001b[0;34m(self, value)\u001b[0m\n\u001b[1;32m   5261\u001b[0m     \u001b[38;5;28;01mif\u001b[39;00m \u001b[38;5;129;01mnot\u001b[39;00m \u001b[38;5;28misinstance\u001b[39m(value, Series):\n\u001b[1;32m   5262\u001b[0m         value \u001b[38;5;241m=\u001b[39m Series(value)\n\u001b[0;32m-> 5263\u001b[0m     \u001b[38;5;28;01mreturn\u001b[39;00m _reindex_for_setitem(value, \u001b[38;5;28mself\u001b[39m\u001b[38;5;241m.\u001b[39mindex)\n\u001b[1;32m   5265\u001b[0m \u001b[38;5;28;01mif\u001b[39;00m is_list_like(value):\n\u001b[1;32m   5266\u001b[0m     com\u001b[38;5;241m.\u001b[39mrequire_length_match(value, \u001b[38;5;28mself\u001b[39m\u001b[38;5;241m.\u001b[39mindex)\n",
      "File \u001b[0;32m/opt/anaconda3/lib/python3.12/site-packages/pandas/core/frame.py:12692\u001b[0m, in \u001b[0;36m_reindex_for_setitem\u001b[0;34m(value, index)\u001b[0m\n\u001b[1;32m  12688\u001b[0m \u001b[38;5;28;01mexcept\u001b[39;00m \u001b[38;5;167;01mValueError\u001b[39;00m \u001b[38;5;28;01mas\u001b[39;00m err:\n\u001b[1;32m  12689\u001b[0m     \u001b[38;5;66;03m# raised in MultiIndex.from_tuples, see test_insert_error_msmgs\u001b[39;00m\n\u001b[1;32m  12690\u001b[0m     \u001b[38;5;28;01mif\u001b[39;00m \u001b[38;5;129;01mnot\u001b[39;00m value\u001b[38;5;241m.\u001b[39mindex\u001b[38;5;241m.\u001b[39mis_unique:\n\u001b[1;32m  12691\u001b[0m         \u001b[38;5;66;03m# duplicate axis\u001b[39;00m\n\u001b[0;32m> 12692\u001b[0m         \u001b[38;5;28;01mraise\u001b[39;00m err\n\u001b[1;32m  12694\u001b[0m     \u001b[38;5;28;01mraise\u001b[39;00m \u001b[38;5;167;01mTypeError\u001b[39;00m(\n\u001b[1;32m  12695\u001b[0m         \u001b[38;5;124m\"\u001b[39m\u001b[38;5;124mincompatible index of inserted column with frame index\u001b[39m\u001b[38;5;124m\"\u001b[39m\n\u001b[1;32m  12696\u001b[0m     ) \u001b[38;5;28;01mfrom\u001b[39;00m \u001b[38;5;21;01merr\u001b[39;00m\n\u001b[1;32m  12697\u001b[0m \u001b[38;5;28;01mreturn\u001b[39;00m reindexed_value, \u001b[38;5;28;01mNone\u001b[39;00m\n",
      "File \u001b[0;32m/opt/anaconda3/lib/python3.12/site-packages/pandas/core/frame.py:12687\u001b[0m, in \u001b[0;36m_reindex_for_setitem\u001b[0;34m(value, index)\u001b[0m\n\u001b[1;32m  12685\u001b[0m \u001b[38;5;66;03m# GH#4107\u001b[39;00m\n\u001b[1;32m  12686\u001b[0m \u001b[38;5;28;01mtry\u001b[39;00m:\n\u001b[0;32m> 12687\u001b[0m     reindexed_value \u001b[38;5;241m=\u001b[39m value\u001b[38;5;241m.\u001b[39mreindex(index)\u001b[38;5;241m.\u001b[39m_values\n\u001b[1;32m  12688\u001b[0m \u001b[38;5;28;01mexcept\u001b[39;00m \u001b[38;5;167;01mValueError\u001b[39;00m \u001b[38;5;28;01mas\u001b[39;00m err:\n\u001b[1;32m  12689\u001b[0m     \u001b[38;5;66;03m# raised in MultiIndex.from_tuples, see test_insert_error_msmgs\u001b[39;00m\n\u001b[1;32m  12690\u001b[0m     \u001b[38;5;28;01mif\u001b[39;00m \u001b[38;5;129;01mnot\u001b[39;00m value\u001b[38;5;241m.\u001b[39mindex\u001b[38;5;241m.\u001b[39mis_unique:\n\u001b[1;32m  12691\u001b[0m         \u001b[38;5;66;03m# duplicate axis\u001b[39;00m\n",
      "File \u001b[0;32m/opt/anaconda3/lib/python3.12/site-packages/pandas/core/series.py:5153\u001b[0m, in \u001b[0;36mSeries.reindex\u001b[0;34m(self, index, axis, method, copy, level, fill_value, limit, tolerance)\u001b[0m\n\u001b[1;32m   5136\u001b[0m \u001b[38;5;129m@doc\u001b[39m(\n\u001b[1;32m   5137\u001b[0m     NDFrame\u001b[38;5;241m.\u001b[39mreindex,  \u001b[38;5;66;03m# type: ignore[has-type]\u001b[39;00m\n\u001b[1;32m   5138\u001b[0m     klass\u001b[38;5;241m=\u001b[39m_shared_doc_kwargs[\u001b[38;5;124m\"\u001b[39m\u001b[38;5;124mklass\u001b[39m\u001b[38;5;124m\"\u001b[39m],\n\u001b[0;32m   (...)\u001b[0m\n\u001b[1;32m   5151\u001b[0m     tolerance\u001b[38;5;241m=\u001b[39m\u001b[38;5;28;01mNone\u001b[39;00m,\n\u001b[1;32m   5152\u001b[0m ) \u001b[38;5;241m-\u001b[39m\u001b[38;5;241m>\u001b[39m Series:\n\u001b[0;32m-> 5153\u001b[0m     \u001b[38;5;28;01mreturn\u001b[39;00m \u001b[38;5;28msuper\u001b[39m()\u001b[38;5;241m.\u001b[39mreindex(\n\u001b[1;32m   5154\u001b[0m         index\u001b[38;5;241m=\u001b[39mindex,\n\u001b[1;32m   5155\u001b[0m         method\u001b[38;5;241m=\u001b[39mmethod,\n\u001b[1;32m   5156\u001b[0m         copy\u001b[38;5;241m=\u001b[39mcopy,\n\u001b[1;32m   5157\u001b[0m         level\u001b[38;5;241m=\u001b[39mlevel,\n\u001b[1;32m   5158\u001b[0m         fill_value\u001b[38;5;241m=\u001b[39mfill_value,\n\u001b[1;32m   5159\u001b[0m         limit\u001b[38;5;241m=\u001b[39mlimit,\n\u001b[1;32m   5160\u001b[0m         tolerance\u001b[38;5;241m=\u001b[39mtolerance,\n\u001b[1;32m   5161\u001b[0m     )\n",
      "File \u001b[0;32m/opt/anaconda3/lib/python3.12/site-packages/pandas/core/generic.py:5610\u001b[0m, in \u001b[0;36mNDFrame.reindex\u001b[0;34m(self, labels, index, columns, axis, method, copy, level, fill_value, limit, tolerance)\u001b[0m\n\u001b[1;32m   5607\u001b[0m     \u001b[38;5;28;01mreturn\u001b[39;00m \u001b[38;5;28mself\u001b[39m\u001b[38;5;241m.\u001b[39m_reindex_multi(axes, copy, fill_value)\n\u001b[1;32m   5609\u001b[0m \u001b[38;5;66;03m# perform the reindex on the axes\u001b[39;00m\n\u001b[0;32m-> 5610\u001b[0m \u001b[38;5;28;01mreturn\u001b[39;00m \u001b[38;5;28mself\u001b[39m\u001b[38;5;241m.\u001b[39m_reindex_axes(\n\u001b[1;32m   5611\u001b[0m     axes, level, limit, tolerance, method, fill_value, copy\n\u001b[1;32m   5612\u001b[0m )\u001b[38;5;241m.\u001b[39m__finalize__(\u001b[38;5;28mself\u001b[39m, method\u001b[38;5;241m=\u001b[39m\u001b[38;5;124m\"\u001b[39m\u001b[38;5;124mreindex\u001b[39m\u001b[38;5;124m\"\u001b[39m)\n",
      "File \u001b[0;32m/opt/anaconda3/lib/python3.12/site-packages/pandas/core/generic.py:5633\u001b[0m, in \u001b[0;36mNDFrame._reindex_axes\u001b[0;34m(self, axes, level, limit, tolerance, method, fill_value, copy)\u001b[0m\n\u001b[1;32m   5630\u001b[0m     \u001b[38;5;28;01mcontinue\u001b[39;00m\n\u001b[1;32m   5632\u001b[0m ax \u001b[38;5;241m=\u001b[39m \u001b[38;5;28mself\u001b[39m\u001b[38;5;241m.\u001b[39m_get_axis(a)\n\u001b[0;32m-> 5633\u001b[0m new_index, indexer \u001b[38;5;241m=\u001b[39m ax\u001b[38;5;241m.\u001b[39mreindex(\n\u001b[1;32m   5634\u001b[0m     labels, level\u001b[38;5;241m=\u001b[39mlevel, limit\u001b[38;5;241m=\u001b[39mlimit, tolerance\u001b[38;5;241m=\u001b[39mtolerance, method\u001b[38;5;241m=\u001b[39mmethod\n\u001b[1;32m   5635\u001b[0m )\n\u001b[1;32m   5637\u001b[0m axis \u001b[38;5;241m=\u001b[39m \u001b[38;5;28mself\u001b[39m\u001b[38;5;241m.\u001b[39m_get_axis_number(a)\n\u001b[1;32m   5638\u001b[0m obj \u001b[38;5;241m=\u001b[39m obj\u001b[38;5;241m.\u001b[39m_reindex_with_indexers(\n\u001b[1;32m   5639\u001b[0m     {axis: [new_index, indexer]},\n\u001b[1;32m   5640\u001b[0m     fill_value\u001b[38;5;241m=\u001b[39mfill_value,\n\u001b[1;32m   5641\u001b[0m     copy\u001b[38;5;241m=\u001b[39mcopy,\n\u001b[1;32m   5642\u001b[0m     allow_dups\u001b[38;5;241m=\u001b[39m\u001b[38;5;28;01mFalse\u001b[39;00m,\n\u001b[1;32m   5643\u001b[0m )\n",
      "File \u001b[0;32m/opt/anaconda3/lib/python3.12/site-packages/pandas/core/indexes/base.py:4429\u001b[0m, in \u001b[0;36mIndex.reindex\u001b[0;34m(self, target, method, level, limit, tolerance)\u001b[0m\n\u001b[1;32m   4426\u001b[0m     \u001b[38;5;28;01mraise\u001b[39;00m \u001b[38;5;167;01mValueError\u001b[39;00m(\u001b[38;5;124m\"\u001b[39m\u001b[38;5;124mcannot handle a non-unique multi-index!\u001b[39m\u001b[38;5;124m\"\u001b[39m)\n\u001b[1;32m   4427\u001b[0m \u001b[38;5;28;01melif\u001b[39;00m \u001b[38;5;129;01mnot\u001b[39;00m \u001b[38;5;28mself\u001b[39m\u001b[38;5;241m.\u001b[39mis_unique:\n\u001b[1;32m   4428\u001b[0m     \u001b[38;5;66;03m# GH#42568\u001b[39;00m\n\u001b[0;32m-> 4429\u001b[0m     \u001b[38;5;28;01mraise\u001b[39;00m \u001b[38;5;167;01mValueError\u001b[39;00m(\u001b[38;5;124m\"\u001b[39m\u001b[38;5;124mcannot reindex on an axis with duplicate labels\u001b[39m\u001b[38;5;124m\"\u001b[39m)\n\u001b[1;32m   4430\u001b[0m \u001b[38;5;28;01melse\u001b[39;00m:\n\u001b[1;32m   4431\u001b[0m     indexer, _ \u001b[38;5;241m=\u001b[39m \u001b[38;5;28mself\u001b[39m\u001b[38;5;241m.\u001b[39mget_indexer_non_unique(target)\n",
      "\u001b[0;31mValueError\u001b[0m: cannot reindex on an axis with duplicate labels"
     ]
    },
    {
     "data": {
      "image/png": "[encoded data removed]",
      "text/plain": [
       "<Figure size 1250x1250 with 30 Axes>"
      ]
     },
     "metadata": {},
     "output_type": "display_data"
    }
   ],
   "source": [
    "top_vars = ['ClosePrice', 'LivingArea', 'BathroomsTotalInteger', 'BedroomsTotal', 'AssociationFee']\n",
    "sns.pairplot(df[top_vars].sample(300))"
   ]
  },
  {
   "cell_type": "code",
   "execution_count": 28,
   "metadata": {},
   "outputs": [
    {
     "data": {
      "image/png": "[encoded data removed]",
      "text/plain": [
       "<Figure size 640x480 with 2 Axes>"
      ]
     },
     "metadata": {},
     "output_type": "display_data"
    }
   ],
   "source": [
    "# Geographic Visualization\n",
    "plt.hexbin(df['Longitude'], df['Latitude'], C=df['ClosePrice'], gridsize=50, cmap='viridis')\n",
    "plt.colorbar(label='Average Price')\n",
    "plt.title('Geographic Distribution of Home Prices')\n",
    "plt.show()"
   ]
  },
  {
   "cell_type": "code",
   "execution_count": 29,
   "metadata": {},
   "outputs": [
    {
     "data": {
      "image/png": "[encoded data removed]",
      "text/plain": [
       "<Figure size 800x600 with 1 Axes>"
      ]
     },
     "metadata": {},
     "output_type": "display_data"
    }
   ],
   "source": [
    "plt.figure(figsize=(10,8))\n",
    "sns.scatterplot(x='Longitude', y='Latitude', hue='ClosePrice', data=df, palette='viridis', alpha=0.5)\n",
    "plt.title('Home Prices by Location')\n",
    "plt.show()"
   ]
  },
  {
   "cell_type": "markdown",
   "metadata": {},
   "source": [
    "#### Convert Categorical Fields to Numeric through encoding."
   ]
  },
  {
   "cell_type": "code",
   "execution_count": 39,
   "metadata": {},
   "outputs": [],
   "source": [
    "mask = (df[\"CloseDate\"].dt.year == 2025) & (df[\"CloseDate\"].dt.month == 8)\n",
    "\n",
    "df_test = df[mask].copy()\n",
    "df_train = df[~mask].copy()"
   ]
  },
  {
   "cell_type": "code",
   "execution_count": 36,
   "metadata": {},
   "outputs": [
    {
     "data": {
      "text/plain": [
       "['Flooring',\n",
       " 'UnparsedAddress',\n",
       " 'PropertyType',\n",
       " 'MLSAreaMajor',\n",
       " 'CountyOrParish',\n",
       " 'PropertySubType',\n",
       " 'City',\n",
       " 'StateOrProvince',\n",
       " 'Levels',\n",
       " 'HighSchoolDistrict',\n",
       " 'PostalCode']"
      ]
     },
     "execution_count": 36,
     "metadata": {},
     "output_type": "execute_result"
    }
   ],
   "source": [
    "cat_cols = [\n",
    "    c for c in df.columns\n",
    "    if c not in num_cols + yes_no_cols   # exclude target and known numeric/bool\n",
    "    and df[c].dtype == 'object'                        # text/categorical dtype\n",
    "]\n",
    "cat_cols"
   ]
  },
  {
   "cell_type": "markdown",
   "metadata": {},
   "source": [
    "#### Fill in missing values through possible imputation, or any other method, Normalize numerical features if needed."
   ]
  },
  {
   "cell_type": "code",
   "execution_count": null,
   "metadata": {},
   "outputs": [
    {
     "data": {
      "text/plain": [
       "(525539, 80178)"
      ]
     },
     "execution_count": 38,
     "metadata": {},
     "output_type": "execute_result"
    }
   ],
   "source": [
    "\n"
   ]
  },
  {
   "cell_type": "code",
   "execution_count": null,
   "metadata": {},
   "outputs": [],
   "source": []
  },
  {
   "cell_type": "code",
   "execution_count": null,
   "metadata": {},
   "outputs": [],
   "source": []
  },
  {
   "cell_type": "code",
   "execution_count": null,
   "metadata": {},
   "outputs": [],
   "source": []
  },
  {
   "cell_type": "code",
   "execution_count": null,
   "metadata": {},
   "outputs": [],
   "source": []
  },
  {
   "cell_type": "markdown",
   "metadata": {},
   "source": [
    "## Train a Baseline Linear Regression Model, make sure to split the dataset, df, into train and test data, but make sure that CRMLSSold202508_filled-2.csv, which is the August dataset, is the test dataset and the other datasets are apart of the training datasets. And evaluate model performance/accuracy with R^2 and median MAPE values"
   ]
  },
  {
   "cell_type": "code",
   "execution_count": 40,
   "metadata": {},
   "outputs": [
    {
     "data": {
      "text/plain": [
       "Index(['Flooring', 'ViewYN', 'WaterfrontYN', 'BasementYN', 'PoolPrivateYN',\n",
       "       'CloseDate', 'ClosePrice', 'Latitude', 'Longitude', 'UnparsedAddress',\n",
       "       'PropertyType', 'LivingArea', 'MLSAreaMajor', 'CountyOrParish',\n",
       "       'AttachedGarageYN', 'ParkingTotal', 'PropertySubType', 'LotSizeAcres',\n",
       "       'YearBuilt', 'StreetNumberNumeric', 'BathroomsTotalInteger', 'City',\n",
       "       'BedroomsTotal', 'StateOrProvince', 'FireplaceYN', 'Stories', 'Levels',\n",
       "       'LotSizeArea', 'MainLevelBedrooms', 'NewConstructionYN', 'GarageSpaces',\n",
       "       'HighSchoolDistrict', 'PostalCode', 'AssociationFee',\n",
       "       'LotSizeSquareFeet'],\n",
       "      dtype='object')"
      ]
     },
     "execution_count": 40,
     "metadata": {},
     "output_type": "execute_result"
    }
   ],
   "source": [
    "df_train.columns"
   ]
  },
  {
   "cell_type": "code",
   "execution_count": 41,
   "metadata": {},
   "outputs": [
    {
     "ename": "ValueError",
     "evalue": "could not convert string to float: 'Carpet,Tile'",
     "output_type": "error",
     "traceback": [
      "\u001b[0;31m---------------------------------------------------------------------------\u001b[0m",
      "\u001b[0;31mValueError\u001b[0m                                Traceback (most recent call last)",
      "\u001b[0;32m/var/folders/_t/ms_9wggj1s1d3vr5j_zzp07c0000gn/T/ipykernel_98045/3501041413.py\u001b[0m in \u001b[0;36m?\u001b[0;34m()\u001b[0m\n\u001b[1;32m      1\u001b[0m \u001b[0;32mfrom\u001b[0m \u001b[0msklearn\u001b[0m\u001b[0;34m.\u001b[0m\u001b[0mlinear_model\u001b[0m \u001b[0;32mimport\u001b[0m \u001b[0mLinearRegression\u001b[0m\u001b[0;34m\u001b[0m\u001b[0;34m\u001b[0m\u001b[0m\n\u001b[1;32m      2\u001b[0m \u001b[0mlinreg\u001b[0m \u001b[0;34m=\u001b[0m \u001b[0mLinearRegression\u001b[0m\u001b[0;34m(\u001b[0m\u001b[0;34m)\u001b[0m\u001b[0;34m\u001b[0m\u001b[0;34m\u001b[0m\u001b[0m\n\u001b[0;32m----> 3\u001b[0;31m \u001b[0mlinreg\u001b[0m\u001b[0;34m.\u001b[0m\u001b[0mfit\u001b[0m\u001b[0;34m(\u001b[0m\u001b[0mdf_train\u001b[0m\u001b[0;34m,\u001b[0m \u001b[0mdf_test\u001b[0m\u001b[0;34m)\u001b[0m\u001b[0;34m\u001b[0m\u001b[0;34m\u001b[0m\u001b[0m\n\u001b[0m",
      "\u001b[0;32m/opt/anaconda3/lib/python3.12/site-packages/sklearn/base.py\u001b[0m in \u001b[0;36m?\u001b[0;34m(estimator, *args, **kwargs)\u001b[0m\n\u001b[1;32m   1470\u001b[0m                 skip_parameter_validation=(\n\u001b[1;32m   1471\u001b[0m                     \u001b[0mprefer_skip_nested_validation\u001b[0m \u001b[0;32mor\u001b[0m \u001b[0mglobal_skip_validation\u001b[0m\u001b[0;34m\u001b[0m\u001b[0;34m\u001b[0m\u001b[0m\n\u001b[1;32m   1472\u001b[0m                 \u001b[0;34m)\u001b[0m\u001b[0;34m\u001b[0m\u001b[0;34m\u001b[0m\u001b[0m\n\u001b[1;32m   1473\u001b[0m             \u001b[0;34m)\u001b[0m\u001b[0;34m:\u001b[0m\u001b[0;34m\u001b[0m\u001b[0;34m\u001b[0m\u001b[0m\n\u001b[0;32m-> 1474\u001b[0;31m                 \u001b[0;32mreturn\u001b[0m \u001b[0mfit_method\u001b[0m\u001b[0;34m(\u001b[0m\u001b[0mestimator\u001b[0m\u001b[0;34m,\u001b[0m \u001b[0;34m*\u001b[0m\u001b[0margs\u001b[0m\u001b[0;34m,\u001b[0m \u001b[0;34m**\u001b[0m\u001b[0mkwargs\u001b[0m\u001b[0;34m)\u001b[0m\u001b[0;34m\u001b[0m\u001b[0;34m\u001b[0m\u001b[0m\n\u001b[0m",
      "\u001b[0;32m/opt/anaconda3/lib/python3.12/site-packages/sklearn/linear_model/_base.py\u001b[0m in \u001b[0;36m?\u001b[0;34m(self, X, y, sample_weight)\u001b[0m\n\u001b[1;32m    574\u001b[0m         \u001b[0mn_jobs_\u001b[0m \u001b[0;34m=\u001b[0m \u001b[0mself\u001b[0m\u001b[0;34m.\u001b[0m\u001b[0mn_jobs\u001b[0m\u001b[0;34m\u001b[0m\u001b[0;34m\u001b[0m\u001b[0m\n\u001b[1;32m    575\u001b[0m \u001b[0;34m\u001b[0m\u001b[0m\n\u001b[1;32m    576\u001b[0m         \u001b[0maccept_sparse\u001b[0m \u001b[0;34m=\u001b[0m \u001b[0;32mFalse\u001b[0m \u001b[0;32mif\u001b[0m \u001b[0mself\u001b[0m\u001b[0;34m.\u001b[0m\u001b[0mpositive\u001b[0m \u001b[0;32melse\u001b[0m \u001b[0;34m[\u001b[0m\u001b[0;34m\"csr\"\u001b[0m\u001b[0;34m,\u001b[0m \u001b[0;34m\"csc\"\u001b[0m\u001b[0;34m,\u001b[0m \u001b[0;34m\"coo\"\u001b[0m\u001b[0;34m]\u001b[0m\u001b[0;34m\u001b[0m\u001b[0;34m\u001b[0m\u001b[0m\n\u001b[1;32m    577\u001b[0m \u001b[0;34m\u001b[0m\u001b[0m\n\u001b[0;32m--> 578\u001b[0;31m         X, y = self._validate_data(\n\u001b[0m\u001b[1;32m    579\u001b[0m             \u001b[0mX\u001b[0m\u001b[0;34m,\u001b[0m \u001b[0my\u001b[0m\u001b[0;34m,\u001b[0m \u001b[0maccept_sparse\u001b[0m\u001b[0;34m=\u001b[0m\u001b[0maccept_sparse\u001b[0m\u001b[0;34m,\u001b[0m \u001b[0my_numeric\u001b[0m\u001b[0;34m=\u001b[0m\u001b[0;32mTrue\u001b[0m\u001b[0;34m,\u001b[0m \u001b[0mmulti_output\u001b[0m\u001b[0;34m=\u001b[0m\u001b[0;32mTrue\u001b[0m\u001b[0;34m\u001b[0m\u001b[0;34m\u001b[0m\u001b[0m\n\u001b[1;32m    580\u001b[0m         \u001b[0;34m)\u001b[0m\u001b[0;34m\u001b[0m\u001b[0;34m\u001b[0m\u001b[0m\n\u001b[1;32m    581\u001b[0m \u001b[0;34m\u001b[0m\u001b[0m\n",
      "\u001b[0;32m/opt/anaconda3/lib/python3.12/site-packages/sklearn/base.py\u001b[0m in \u001b[0;36m?\u001b[0;34m(self, X, y, reset, validate_separately, cast_to_ndarray, **check_params)\u001b[0m\n\u001b[1;32m    646\u001b[0m                 \u001b[0;32mif\u001b[0m \u001b[0;34m\"estimator\"\u001b[0m \u001b[0;32mnot\u001b[0m \u001b[0;32min\u001b[0m \u001b[0mcheck_y_params\u001b[0m\u001b[0;34m:\u001b[0m\u001b[0;34m\u001b[0m\u001b[0;34m\u001b[0m\u001b[0m\n\u001b[1;32m    647\u001b[0m                     \u001b[0mcheck_y_params\u001b[0m \u001b[0;34m=\u001b[0m \u001b[0;34m{\u001b[0m\u001b[0;34m**\u001b[0m\u001b[0mdefault_check_params\u001b[0m\u001b[0;34m,\u001b[0m \u001b[0;34m**\u001b[0m\u001b[0mcheck_y_params\u001b[0m\u001b[0;34m}\u001b[0m\u001b[0;34m\u001b[0m\u001b[0;34m\u001b[0m\u001b[0m\n\u001b[1;32m    648\u001b[0m                 \u001b[0my\u001b[0m \u001b[0;34m=\u001b[0m \u001b[0mcheck_array\u001b[0m\u001b[0;34m(\u001b[0m\u001b[0my\u001b[0m\u001b[0;34m,\u001b[0m \u001b[0minput_name\u001b[0m\u001b[0;34m=\u001b[0m\u001b[0;34m\"y\"\u001b[0m\u001b[0;34m,\u001b[0m \u001b[0;34m**\u001b[0m\u001b[0mcheck_y_params\u001b[0m\u001b[0;34m)\u001b[0m\u001b[0;34m\u001b[0m\u001b[0;34m\u001b[0m\u001b[0m\n\u001b[1;32m    649\u001b[0m             \u001b[0;32melse\u001b[0m\u001b[0;34m:\u001b[0m\u001b[0;34m\u001b[0m\u001b[0;34m\u001b[0m\u001b[0m\n\u001b[0;32m--> 650\u001b[0;31m                 \u001b[0mX\u001b[0m\u001b[0;34m,\u001b[0m \u001b[0my\u001b[0m \u001b[0;34m=\u001b[0m \u001b[0mcheck_X_y\u001b[0m\u001b[0;34m(\u001b[0m\u001b[0mX\u001b[0m\u001b[0;34m,\u001b[0m \u001b[0my\u001b[0m\u001b[0;34m,\u001b[0m \u001b[0;34m**\u001b[0m\u001b[0mcheck_params\u001b[0m\u001b[0;34m)\u001b[0m\u001b[0;34m\u001b[0m\u001b[0;34m\u001b[0m\u001b[0m\n\u001b[0m\u001b[1;32m    651\u001b[0m             \u001b[0mout\u001b[0m \u001b[0;34m=\u001b[0m \u001b[0mX\u001b[0m\u001b[0;34m,\u001b[0m \u001b[0my\u001b[0m\u001b[0;34m\u001b[0m\u001b[0;34m\u001b[0m\u001b[0m\n\u001b[1;32m    652\u001b[0m \u001b[0;34m\u001b[0m\u001b[0m\n\u001b[1;32m    653\u001b[0m         \u001b[0;32mif\u001b[0m \u001b[0;32mnot\u001b[0m \u001b[0mno_val_X\u001b[0m \u001b[0;32mand\u001b[0m \u001b[0mcheck_params\u001b[0m\u001b[0;34m.\u001b[0m\u001b[0mget\u001b[0m\u001b[0;34m(\u001b[0m\u001b[0;34m\"ensure_2d\"\u001b[0m\u001b[0;34m,\u001b[0m \u001b[0;32mTrue\u001b[0m\u001b[0;34m)\u001b[0m\u001b[0;34m:\u001b[0m\u001b[0;34m\u001b[0m\u001b[0;34m\u001b[0m\u001b[0m\n",
      "\u001b[0;32m/opt/anaconda3/lib/python3.12/site-packages/sklearn/utils/validation.py\u001b[0m in \u001b[0;36m?\u001b[0;34m(X, y, accept_sparse, accept_large_sparse, dtype, order, copy, force_all_finite, ensure_2d, allow_nd, multi_output, ensure_min_samples, ensure_min_features, y_numeric, estimator)\u001b[0m\n\u001b[1;32m   1259\u001b[0m         raise ValueError(\n\u001b[1;32m   1260\u001b[0m             \u001b[0;34mf\"\u001b[0m\u001b[0;34m{\u001b[0m\u001b[0mestimator_name\u001b[0m\u001b[0;34m}\u001b[0m\u001b[0;34m requires y to be passed, but the target y is None\u001b[0m\u001b[0;34m\"\u001b[0m\u001b[0;34m\u001b[0m\u001b[0;34m\u001b[0m\u001b[0m\n\u001b[1;32m   1261\u001b[0m         \u001b[0;34m)\u001b[0m\u001b[0;34m\u001b[0m\u001b[0;34m\u001b[0m\u001b[0m\n\u001b[1;32m   1262\u001b[0m \u001b[0;34m\u001b[0m\u001b[0m\n\u001b[0;32m-> 1263\u001b[0;31m     X = check_array(\n\u001b[0m\u001b[1;32m   1264\u001b[0m         \u001b[0mX\u001b[0m\u001b[0;34m,\u001b[0m\u001b[0;34m\u001b[0m\u001b[0;34m\u001b[0m\u001b[0m\n\u001b[1;32m   1265\u001b[0m         \u001b[0maccept_sparse\u001b[0m\u001b[0;34m=\u001b[0m\u001b[0maccept_sparse\u001b[0m\u001b[0;34m,\u001b[0m\u001b[0;34m\u001b[0m\u001b[0;34m\u001b[0m\u001b[0m\n\u001b[1;32m   1266\u001b[0m         \u001b[0maccept_large_sparse\u001b[0m\u001b[0;34m=\u001b[0m\u001b[0maccept_large_sparse\u001b[0m\u001b[0;34m,\u001b[0m\u001b[0;34m\u001b[0m\u001b[0;34m\u001b[0m\u001b[0m\n",
      "\u001b[0;32m/opt/anaconda3/lib/python3.12/site-packages/sklearn/utils/validation.py\u001b[0m in \u001b[0;36m?\u001b[0;34m(array, accept_sparse, accept_large_sparse, dtype, order, copy, force_all_finite, ensure_2d, allow_nd, ensure_min_samples, ensure_min_features, estimator, input_name)\u001b[0m\n\u001b[1;32m    994\u001b[0m                         \u001b[0;34m)\u001b[0m\u001b[0;34m\u001b[0m\u001b[0;34m\u001b[0m\u001b[0m\n\u001b[1;32m    995\u001b[0m                     \u001b[0marray\u001b[0m \u001b[0;34m=\u001b[0m \u001b[0mxp\u001b[0m\u001b[0;34m.\u001b[0m\u001b[0mastype\u001b[0m\u001b[0;34m(\u001b[0m\u001b[0marray\u001b[0m\u001b[0;34m,\u001b[0m \u001b[0mdtype\u001b[0m\u001b[0;34m,\u001b[0m \u001b[0mcopy\u001b[0m\u001b[0;34m=\u001b[0m\u001b[0;32mFalse\u001b[0m\u001b[0;34m)\u001b[0m\u001b[0;34m\u001b[0m\u001b[0;34m\u001b[0m\u001b[0m\n\u001b[1;32m    996\u001b[0m                 \u001b[0;32melse\u001b[0m\u001b[0;34m:\u001b[0m\u001b[0;34m\u001b[0m\u001b[0;34m\u001b[0m\u001b[0m\n\u001b[1;32m    997\u001b[0m                     \u001b[0marray\u001b[0m \u001b[0;34m=\u001b[0m \u001b[0m_asarray_with_order\u001b[0m\u001b[0;34m(\u001b[0m\u001b[0marray\u001b[0m\u001b[0;34m,\u001b[0m \u001b[0morder\u001b[0m\u001b[0;34m=\u001b[0m\u001b[0morder\u001b[0m\u001b[0;34m,\u001b[0m \u001b[0mdtype\u001b[0m\u001b[0;34m=\u001b[0m\u001b[0mdtype\u001b[0m\u001b[0;34m,\u001b[0m \u001b[0mxp\u001b[0m\u001b[0;34m=\u001b[0m\u001b[0mxp\u001b[0m\u001b[0;34m)\u001b[0m\u001b[0;34m\u001b[0m\u001b[0;34m\u001b[0m\u001b[0m\n\u001b[0;32m--> 998\u001b[0;31m             \u001b[0;32mexcept\u001b[0m \u001b[0mComplexWarning\u001b[0m \u001b[0;32mas\u001b[0m \u001b[0mcomplex_warning\u001b[0m\u001b[0;34m:\u001b[0m\u001b[0;34m\u001b[0m\u001b[0;34m\u001b[0m\u001b[0m\n\u001b[0m\u001b[1;32m    999\u001b[0m                 raise ValueError(\n\u001b[1;32m   1000\u001b[0m                     \u001b[0;34m\"Complex data not supported\\n{}\\n\"\u001b[0m\u001b[0;34m.\u001b[0m\u001b[0mformat\u001b[0m\u001b[0;34m(\u001b[0m\u001b[0marray\u001b[0m\u001b[0;34m)\u001b[0m\u001b[0;34m\u001b[0m\u001b[0;34m\u001b[0m\u001b[0m\n\u001b[1;32m   1001\u001b[0m                 \u001b[0;34m)\u001b[0m \u001b[0;32mfrom\u001b[0m \u001b[0mcomplex_warning\u001b[0m\u001b[0;34m\u001b[0m\u001b[0;34m\u001b[0m\u001b[0m\n",
      "\u001b[0;32m/opt/anaconda3/lib/python3.12/site-packages/sklearn/utils/_array_api.py\u001b[0m in \u001b[0;36m?\u001b[0;34m(array, dtype, order, copy, xp)\u001b[0m\n\u001b[1;32m    517\u001b[0m         \u001b[0;31m# Use NumPy API to support order\u001b[0m\u001b[0;34m\u001b[0m\u001b[0;34m\u001b[0m\u001b[0m\n\u001b[1;32m    518\u001b[0m         \u001b[0;32mif\u001b[0m \u001b[0mcopy\u001b[0m \u001b[0;32mis\u001b[0m \u001b[0;32mTrue\u001b[0m\u001b[0;34m:\u001b[0m\u001b[0;34m\u001b[0m\u001b[0;34m\u001b[0m\u001b[0m\n\u001b[1;32m    519\u001b[0m             \u001b[0marray\u001b[0m \u001b[0;34m=\u001b[0m \u001b[0mnumpy\u001b[0m\u001b[0;34m.\u001b[0m\u001b[0marray\u001b[0m\u001b[0;34m(\u001b[0m\u001b[0marray\u001b[0m\u001b[0;34m,\u001b[0m \u001b[0morder\u001b[0m\u001b[0;34m=\u001b[0m\u001b[0morder\u001b[0m\u001b[0;34m,\u001b[0m \u001b[0mdtype\u001b[0m\u001b[0;34m=\u001b[0m\u001b[0mdtype\u001b[0m\u001b[0;34m)\u001b[0m\u001b[0;34m\u001b[0m\u001b[0;34m\u001b[0m\u001b[0m\n\u001b[1;32m    520\u001b[0m         \u001b[0;32melse\u001b[0m\u001b[0;34m:\u001b[0m\u001b[0;34m\u001b[0m\u001b[0;34m\u001b[0m\u001b[0m\n\u001b[0;32m--> 521\u001b[0;31m             \u001b[0marray\u001b[0m \u001b[0;34m=\u001b[0m \u001b[0mnumpy\u001b[0m\u001b[0;34m.\u001b[0m\u001b[0masarray\u001b[0m\u001b[0;34m(\u001b[0m\u001b[0marray\u001b[0m\u001b[0;34m,\u001b[0m \u001b[0morder\u001b[0m\u001b[0;34m=\u001b[0m\u001b[0morder\u001b[0m\u001b[0;34m,\u001b[0m \u001b[0mdtype\u001b[0m\u001b[0;34m=\u001b[0m\u001b[0mdtype\u001b[0m\u001b[0;34m)\u001b[0m\u001b[0;34m\u001b[0m\u001b[0;34m\u001b[0m\u001b[0m\n\u001b[0m\u001b[1;32m    522\u001b[0m \u001b[0;34m\u001b[0m\u001b[0m\n\u001b[1;32m    523\u001b[0m         \u001b[0;31m# At this point array is a NumPy ndarray. We convert it to an array\u001b[0m\u001b[0;34m\u001b[0m\u001b[0;34m\u001b[0m\u001b[0m\n\u001b[1;32m    524\u001b[0m         \u001b[0;31m# container that is consistent with the input's namespace.\u001b[0m\u001b[0;34m\u001b[0m\u001b[0;34m\u001b[0m\u001b[0m\n",
      "\u001b[0;32m/opt/anaconda3/lib/python3.12/site-packages/pandas/core/generic.py\u001b[0m in \u001b[0;36m?\u001b[0;34m(self, dtype, copy)\u001b[0m\n\u001b[1;32m   2149\u001b[0m     def __array__(\n\u001b[1;32m   2150\u001b[0m         \u001b[0mself\u001b[0m\u001b[0;34m,\u001b[0m \u001b[0mdtype\u001b[0m\u001b[0;34m:\u001b[0m \u001b[0mnpt\u001b[0m\u001b[0;34m.\u001b[0m\u001b[0mDTypeLike\u001b[0m \u001b[0;34m|\u001b[0m \u001b[0;32mNone\u001b[0m \u001b[0;34m=\u001b[0m \u001b[0;32mNone\u001b[0m\u001b[0;34m,\u001b[0m \u001b[0mcopy\u001b[0m\u001b[0;34m:\u001b[0m \u001b[0mbool_t\u001b[0m \u001b[0;34m|\u001b[0m \u001b[0;32mNone\u001b[0m \u001b[0;34m=\u001b[0m \u001b[0;32mNone\u001b[0m\u001b[0;34m\u001b[0m\u001b[0;34m\u001b[0m\u001b[0m\n\u001b[1;32m   2151\u001b[0m     \u001b[0;34m)\u001b[0m \u001b[0;34m->\u001b[0m \u001b[0mnp\u001b[0m\u001b[0;34m.\u001b[0m\u001b[0mndarray\u001b[0m\u001b[0;34m:\u001b[0m\u001b[0;34m\u001b[0m\u001b[0;34m\u001b[0m\u001b[0m\n\u001b[1;32m   2152\u001b[0m         \u001b[0mvalues\u001b[0m \u001b[0;34m=\u001b[0m \u001b[0mself\u001b[0m\u001b[0;34m.\u001b[0m\u001b[0m_values\u001b[0m\u001b[0;34m\u001b[0m\u001b[0;34m\u001b[0m\u001b[0m\n\u001b[0;32m-> 2153\u001b[0;31m         \u001b[0marr\u001b[0m \u001b[0;34m=\u001b[0m \u001b[0mnp\u001b[0m\u001b[0;34m.\u001b[0m\u001b[0masarray\u001b[0m\u001b[0;34m(\u001b[0m\u001b[0mvalues\u001b[0m\u001b[0;34m,\u001b[0m \u001b[0mdtype\u001b[0m\u001b[0;34m=\u001b[0m\u001b[0mdtype\u001b[0m\u001b[0;34m)\u001b[0m\u001b[0;34m\u001b[0m\u001b[0;34m\u001b[0m\u001b[0m\n\u001b[0m\u001b[1;32m   2154\u001b[0m         if (\n\u001b[1;32m   2155\u001b[0m             \u001b[0mastype_is_view\u001b[0m\u001b[0;34m(\u001b[0m\u001b[0mvalues\u001b[0m\u001b[0;34m.\u001b[0m\u001b[0mdtype\u001b[0m\u001b[0;34m,\u001b[0m \u001b[0marr\u001b[0m\u001b[0;34m.\u001b[0m\u001b[0mdtype\u001b[0m\u001b[0;34m)\u001b[0m\u001b[0;34m\u001b[0m\u001b[0;34m\u001b[0m\u001b[0m\n\u001b[1;32m   2156\u001b[0m             \u001b[0;32mand\u001b[0m \u001b[0musing_copy_on_write\u001b[0m\u001b[0;34m(\u001b[0m\u001b[0;34m)\u001b[0m\u001b[0;34m\u001b[0m\u001b[0;34m\u001b[0m\u001b[0m\n",
      "\u001b[0;31mValueError\u001b[0m: could not convert string to float: 'Carpet,Tile'"
     ]
    }
   ],
   "source": [
    "from sklearn.linear_model import LinearRegression\n",
    "linreg = LinearRegression()\n",
    "linreg.fit(df_train, df_test)\n"
   ]
  },
  {
   "cell_type": "markdown",
   "metadata": {},
   "source": [
    "#### Record Baseline Results"
   ]
  },
  {
   "cell_type": "code",
   "execution_count": null,
   "metadata": {},
   "outputs": [],
   "source": []
  },
  {
   "cell_type": "markdown",
   "metadata": {},
   "source": [
    "#### After implementing Linear Regression Baseline Model, enhance model with XGBoost"
   ]
  },
  {
   "cell_type": "code",
   "execution_count": null,
   "metadata": {},
   "outputs": [],
   "source": []
  },
  {
   "cell_type": "markdown",
   "metadata": {},
   "source": [
    "\n"
   ]
  },
  {
   "cell_type": "code",
   "execution_count": null,
   "metadata": {},
   "outputs": [],
   "source": [
    "\n"
   ]
  },
  {
   "cell_type": "code",
   "execution_count": null,
   "metadata": {},
   "outputs": [
    {
     "name": "stdout",
     "output_type": "stream",
     "text": [
      "{'latest_month': '2025-08'}\n"
     ]
    },
    {
     "data": {
      "text/plain": [
       "(75077, 11454)"
      ]
     },
     "execution_count": 40,
     "metadata": {},
     "output_type": "execute_result"
    }
   ],
   "source": [
    "\n"
   ]
  }
 ],
 "metadata": {
  "kernelspec": {
   "display_name": "base",
   "language": "python",
   "name": "python3"
  },
  "language_info": {
   "codemirror_mode": {
    "name": "ipython",
    "version": 3
   },
   "file_extension": ".py",
   "mimetype": "text/x-python",
   "name": "python",
   "nbconvert_exporter": "python",
   "pygments_lexer": "ipython3",
   "version": "3.12.4"
  }
 },
 "nbformat": 4,
 "nbformat_minor": 2
}
